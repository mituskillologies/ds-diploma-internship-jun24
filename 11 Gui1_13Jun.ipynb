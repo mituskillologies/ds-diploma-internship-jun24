{
 "cells": [
  {
   "cell_type": "code",
   "execution_count": 67,
   "id": "03e233e2-4ca2-4c33-beed-6ade28fb746f",
   "metadata": {},
   "outputs": [],
   "source": [
    "import tkinter as tk\n",
    "from tkinter import BooleanVar\n",
    "from tkinter.ttk import *\n",
    "from tkinter import scrolledtext\n",
    "from tkinter import messagebox"
   ]
  },
  {
   "cell_type": "code",
   "execution_count": 33,
   "id": "d58fcdd1-a553-40d7-893b-4498f7c100da",
   "metadata": {},
   "outputs": [],
   "source": [
    "top = tk.Tk()\n",
    "\n",
    "top.title('My Application')\n",
    "top.geometry('500x400')\n",
    "\n",
    "b1 = tk.Button(top, text = 'Click me!!!', bg = 'orange').grid(column=0, row=1)\n",
    "e1 = tk.Entry(top).grid(column=1, row=1)\n",
    "t1 = tk.Text(top).grid(column=2, row=2)\n",
    "l1 = tk.Label(top, text = 'Welcome', font = ('Ariel Bold', 50)).grid(column=2, row=3)\n",
    "\n",
    "# combo box\n",
    "combo = Combobox(top)\n",
    "combo['values'] = [1,2,3,4, 'next']\n",
    "combo.current(2)\n",
    "combo.grid(column=0, row = 0)\n",
    "\n",
    "# check button\n",
    "ch = BooleanVar()\n",
    "ch.set(True)\n",
    "cb = Checkbutton(top, text = 'Done', var = ch, width = 30).grid(column=0, row = 0)\n",
    "\n",
    "# scrolled text\n",
    "st = scrolledtext.ScrolledText(top, width = 40, height = 10).grid(column=3, row = 3)\n",
    "\n",
    "top.mainloop()"
   ]
  },
  {
   "cell_type": "code",
   "execution_count": 73,
   "id": "0ba56bbf-f03c-4055-89aa-6409aaa73e5a",
   "metadata": {},
   "outputs": [],
   "source": [
    "# square of a number\n",
    "\n",
    "top = tk.Tk()\n",
    "\n",
    "top.title('Square')\n",
    "top.geometry('500x400')\n",
    "\n",
    "a = tk.IntVar()\n",
    "\n",
    "def square():\n",
    "    num = a.get()\n",
    "    sq = num * num\n",
    "    result = tk.Label(top, text = 'Square is %i' % sq).place(x = 120, y = 200)\n",
    "    messagebox.showinfo(\"result\", \"Square is %i\" %sq)\n",
    "\n",
    "l = tk.Label(top, text = 'INPUT').place(x = 20, y = 100)\n",
    "e = tk.Entry(top, textvariable = a).place(x = 100, y = 100)\n",
    "b = tk.Button(top, text = 'Sumbit', bg = 'Orange', command = square).place(x = 120, y = 150)\n",
    "\n",
    "\n",
    "top.mainloop()"
   ]
  },
  {
   "cell_type": "code",
   "execution_count": 119,
   "id": "35b3de33-a032-4255-8efb-4e643fb67d5f",
   "metadata": {},
   "outputs": [],
   "source": [
    "# square of a number\n",
    "\n",
    "top = tk.Tk()\n",
    "\n",
    "top.title('Square')\n",
    "top.geometry('500x400')\n",
    "\n",
    "a = tk.IntVar()\n",
    "\n",
    "def square():\n",
    "    num = a.get()\n",
    "    sq = num * num\n",
    "    \n",
    "\n",
    "l = tk.Label(top, text = 'INPUT').place(x = 20, y = 100)\n",
    "e = tk.Entry(top, textvariable = a).place(x = 100, y = 100)\n",
    "b = tk.Button(top, text = 'Sumbit', bg = 'Orange', command = square).place(x = 120, y = 150)\n",
    "\n",
    "\n",
    "top.mainloop()"
   ]
  },
  {
   "cell_type": "code",
   "execution_count": 121,
   "id": "9aea6972-46bf-4cf5-b21a-c92e147a6844",
   "metadata": {},
   "outputs": [],
   "source": [
    "top = tk.Tk()\n",
    "\n",
    "\n",
    "top.title('Calc.')\n",
    "top.geometry('500x400')\n",
    "\n",
    "a1 = tk.IntVar()\n",
    "a2 = tk.IntVar()\n",
    "\n",
    "def add():\n",
    "    ad = a1.get() + a2.get()\n",
    "    messagebox.showinfo(\"result\", \"Addition is %i\" %ad)\n",
    "\n",
    "l = tk.Label(top, text = 'INPUT').place(x = 20, y = 100)\n",
    "l1 = tk.Label(top, text = 'INPUT').place(x = 20, y = 130)\n",
    "e = tk.Entry(top, textvariable = a1).place(x = 100, y = 100)\n",
    "e1 = tk.Entry(top, textvariable = a2).place(x = 100, y = 130)\n",
    "\n",
    "b = tk.Button(top, text = 'Sumbit', bg = 'Orange', command = add, cursor = 'hand2').place(x = 120, y = 180)\n",
    "\n",
    "top.mainloop()"
   ]
  },
  {
   "cell_type": "code",
   "execution_count": null,
   "id": "d3b974d3-444e-42fa-b1ec-6905078a814d",
   "metadata": {},
   "outputs": [],
   "source": [
    "# create for Addition, sub, mult, div of 2 numbers"
   ]
  },
  {
   "cell_type": "code",
   "execution_count": null,
   "id": "ed02068a-226c-436c-88e7-7f21fd301233",
   "metadata": {},
   "outputs": [],
   "source": []
  }
 ],
 "metadata": {
  "kernelspec": {
   "display_name": "Python 3 (ipykernel)",
   "language": "python",
   "name": "python3"
  },
  "language_info": {
   "codemirror_mode": {
    "name": "ipython",
    "version": 3
   },
   "file_extension": ".py",
   "mimetype": "text/x-python",
   "name": "python",
   "nbconvert_exporter": "python",
   "pygments_lexer": "ipython3",
   "version": "3.11.9"
  }
 },
 "nbformat": 4,
 "nbformat_minor": 5
}
