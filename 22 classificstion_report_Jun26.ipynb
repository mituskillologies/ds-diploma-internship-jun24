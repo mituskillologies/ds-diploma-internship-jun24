{
 "cells": [
  {
   "cell_type": "code",
   "execution_count": 2,
   "id": "bcb39faa-9255-437c-84cd-5e92ca375069",
   "metadata": {},
   "outputs": [],
   "source": [
    "import pandas as pd"
   ]
  },
  {
   "cell_type": "code",
   "execution_count": 36,
   "id": "8caa663e-64ec-4191-861d-4f9b8988bfcf",
   "metadata": {},
   "outputs": [],
   "source": [
    "actual    = ['c', 'c', 'nc', 'c', 'nc', 'nc', 'c', 'nc', 'nc']\n",
    "predicted = ['c', 'nc', 'nc', 'c', 'nc', 'c', 'nc', 'c', 'nc']"
   ]
  },
  {
   "cell_type": "markdown",
   "id": "dcb127b3-8a9b-41ad-8108-6d5ee91756e3",
   "metadata": {},
   "source": [
    "#### for cat"
   ]
  },
  {
   "cell_type": "code",
   "execution_count": 12,
   "id": "c57c18d0-cde2-42c8-a3a3-ce903e9876a9",
   "metadata": {},
   "outputs": [],
   "source": [
    "tp = 2   # pred cat actual cat"
   ]
  },
  {
   "cell_type": "code",
   "execution_count": 14,
   "id": "d932f484-953c-4c9f-8730-8c5538a00928",
   "metadata": {},
   "outputs": [],
   "source": [
    "fp = 2   # pred cat actual not-cat"
   ]
  },
  {
   "cell_type": "code",
   "execution_count": 16,
   "id": "523c0509-abb3-4c58-bfd2-c8a2d558788b",
   "metadata": {},
   "outputs": [],
   "source": [
    "fn = 2   # pred not cat actual cat"
   ]
  },
  {
   "cell_type": "code",
   "execution_count": 22,
   "id": "53ae253f-d857-442e-9922-6b1738773472",
   "metadata": {},
   "outputs": [],
   "source": [
    "tn = 3   # pred not cat actual not cat"
   ]
  },
  {
   "cell_type": "code",
   "execution_count": 26,
   "id": "c1d9c34b-7e91-4f2b-b431-4294c2cc9c41",
   "metadata": {},
   "outputs": [
    {
     "data": {
      "text/plain": [
       "0.5"
      ]
     },
     "execution_count": 26,
     "metadata": {},
     "output_type": "execute_result"
    }
   ],
   "source": [
    "# precision\n",
    "\n",
    "precision = 2 / 4\n",
    "precision"
   ]
  },
  {
   "cell_type": "code",
   "execution_count": 28,
   "id": "a6724e57-ef60-4948-8cff-f289f13ade5e",
   "metadata": {},
   "outputs": [
    {
     "data": {
      "text/plain": [
       "0.5"
      ]
     },
     "execution_count": 28,
     "metadata": {},
     "output_type": "execute_result"
    }
   ],
   "source": [
    "# recall\n",
    "\n",
    "recall = 2 / 4\n",
    "recall"
   ]
  },
  {
   "cell_type": "code",
   "execution_count": 40,
   "id": "13f2b9f7-12bf-492f-b6a9-d0180d7a44c6",
   "metadata": {},
   "outputs": [
    {
     "data": {
      "text/plain": [
       "0.5"
      ]
     },
     "execution_count": 40,
     "metadata": {},
     "output_type": "execute_result"
    }
   ],
   "source": [
    "# f1 - score\n",
    "\n",
    "# harmonic mean between precision and recall\n",
    "\n",
    "(2 * precision * recall) / (precision + recall)"
   ]
  },
  {
   "cell_type": "code",
   "execution_count": null,
   "id": "0f9df7e7-9b75-46c7-9ecb-53488b375a0d",
   "metadata": {},
   "outputs": [],
   "source": []
  }
 ],
 "metadata": {
  "kernelspec": {
   "display_name": "Python 3 (ipykernel)",
   "language": "python",
   "name": "python3"
  },
  "language_info": {
   "codemirror_mode": {
    "name": "ipython",
    "version": 3
   },
   "file_extension": ".py",
   "mimetype": "text/x-python",
   "name": "python",
   "nbconvert_exporter": "python",
   "pygments_lexer": "ipython3",
   "version": "3.11.9"
  }
 },
 "nbformat": 4,
 "nbformat_minor": 5
}
