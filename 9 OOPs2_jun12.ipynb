{
 "cells": [
  {
   "cell_type": "code",
   "execution_count": 2,
   "id": "d11fe1c0-3453-4011-aa1e-6c1c16ab9475",
   "metadata": {},
   "outputs": [],
   "source": [
    "class Employee():  # creating the class\n",
    "    pass"
   ]
  },
  {
   "cell_type": "code",
   "execution_count": 4,
   "id": "1c7df10e-86e3-4ef4-a50a-0eb7d4e879ea",
   "metadata": {},
   "outputs": [],
   "source": [
    "emp1 = Employee()   # creating an instance of a class\n",
    "emp2 = Employee()"
   ]
  },
  {
   "cell_type": "code",
   "execution_count": 6,
   "id": "e8040241-205d-4eba-ad64-548c7f484db2",
   "metadata": {},
   "outputs": [
    {
     "name": "stdout",
     "output_type": "stream",
     "text": [
      "<__main__.Employee object at 0x7a9da4882050>\n",
      "<__main__.Employee object at 0x7a9da48821d0>\n"
     ]
    }
   ],
   "source": [
    "print(emp1)\n",
    "print(emp2)"
   ]
  },
  {
   "cell_type": "code",
   "execution_count": 8,
   "id": "75e36870-844b-4b92-8611-11c3617069cf",
   "metadata": {},
   "outputs": [],
   "source": [
    "# insatnce variables\n",
    "\n",
    "emp1.first = 'Neeraj'\n",
    "emp1.last = 'Deshmukh'\n",
    "emp1.salary = 51000\n",
    "\n",
    "emp2.first = 'Natasha'\n",
    "emp2.last = 'Negi'\n",
    "emp2.salary = 52000"
   ]
  },
  {
   "cell_type": "code",
   "execution_count": 10,
   "id": "0c1f757a-c584-41b5-b3cb-bc203eaaccc1",
   "metadata": {},
   "outputs": [
    {
     "name": "stdout",
     "output_type": "stream",
     "text": [
      "Neeraj\n"
     ]
    }
   ],
   "source": [
    "print(emp1.first)"
   ]
  },
  {
   "cell_type": "code",
   "execution_count": 12,
   "id": "7b708c40-d551-4ca1-97d0-f0690b959a3c",
   "metadata": {},
   "outputs": [
    {
     "name": "stdout",
     "output_type": "stream",
     "text": [
      "52000\n"
     ]
    }
   ],
   "source": [
    "print(emp2.salary)"
   ]
  },
  {
   "cell_type": "code",
   "execution_count": 100,
   "id": "e38e4902-94b5-44d3-9f26-e953dcdb3f04",
   "metadata": {},
   "outputs": [],
   "source": [
    "class Employee():\n",
    "\n",
    "    def __init__ (self,first, last, salary):   # init method\n",
    "        self.first = first\n",
    "        self.last = last\n",
    "        self.salary = salary\n",
    "\n",
    "    def show(self):\n",
    "        print(self.first + ' ' + 'ok')"
   ]
  },
  {
   "cell_type": "code",
   "execution_count": 102,
   "id": "1a887187-bfed-454f-bcd4-9df80221c700",
   "metadata": {},
   "outputs": [],
   "source": [
    "emp1 = Employee('raj', 'sharma', 48000)"
   ]
  },
  {
   "cell_type": "code",
   "execution_count": 104,
   "id": "fd88385c-3f0b-4b45-883e-1c5886557a40",
   "metadata": {},
   "outputs": [
    {
     "name": "stdout",
     "output_type": "stream",
     "text": [
      "raj\n"
     ]
    }
   ],
   "source": [
    "print(emp1.first)"
   ]
  },
  {
   "cell_type": "code",
   "execution_count": 106,
   "id": "bceac671-fd93-44c9-b142-6fd5471bed9e",
   "metadata": {},
   "outputs": [],
   "source": [
    "emp2 = Employee('ajay', 'patil', 49000)"
   ]
  },
  {
   "cell_type": "code",
   "execution_count": 108,
   "id": "485927cf-1035-42cb-b558-3a4dfed4fae0",
   "metadata": {},
   "outputs": [
    {
     "ename": "SyntaxError",
     "evalue": "invalid syntax (3076260205.py, line 1)",
     "output_type": "error",
     "traceback": [
      "\u001b[0;36m  Cell \u001b[0;32mIn[108], line 1\u001b[0;36m\u001b[0m\n\u001b[0;31m    emp1.\u001b[0m\n\u001b[0m         ^\u001b[0m\n\u001b[0;31mSyntaxError\u001b[0m\u001b[0;31m:\u001b[0m invalid syntax\n"
     ]
    }
   ],
   "source": [
    "emp1."
   ]
  },
  {
   "cell_type": "code",
   "execution_count": 110,
   "id": "bcf6b706-18b7-469a-9a8f-805b009ac9c0",
   "metadata": {},
   "outputs": [
    {
     "name": "stdout",
     "output_type": "stream",
     "text": [
      "ajay ok\n"
     ]
    }
   ],
   "source": [
    "emp2.show()"
   ]
  },
  {
   "cell_type": "code",
   "execution_count": 118,
   "id": "8fe50d0d-cdd7-4510-b821-fb30a28dfaef",
   "metadata": {},
   "outputs": [],
   "source": [
    "# Encapsulation\n",
    "\n",
    "class Employee1():\n",
    "\n",
    "    def __init__ (self,first, last, salary):   # init method\n",
    "        self.first = first\n",
    "        self.last = last\n",
    "        self.__salary = salary   # private variable\n",
    "\n",
    "    def show(self):\n",
    "        print(self.__salary)"
   ]
  },
  {
   "cell_type": "code",
   "execution_count": 120,
   "id": "73049a6b-5c38-4a57-bc1c-4798e591218e",
   "metadata": {},
   "outputs": [],
   "source": [
    "emp1 = Employee1('raj', 'sharma', 48000)\n",
    "emp2 = Employee1('ajay', 'patil', 49000)"
   ]
  },
  {
   "cell_type": "code",
   "execution_count": 122,
   "id": "573fb902-3a2f-4a6b-a45a-109b3bc022a6",
   "metadata": {},
   "outputs": [
    {
     "data": {
      "text/plain": [
       "'raj'"
      ]
     },
     "execution_count": 122,
     "metadata": {},
     "output_type": "execute_result"
    }
   ],
   "source": [
    "emp1.first"
   ]
  },
  {
   "cell_type": "code",
   "execution_count": 124,
   "id": "cca8b2c4-aab3-43be-8f2c-88cf1e33e28a",
   "metadata": {},
   "outputs": [
    {
     "ename": "AttributeError",
     "evalue": "'Employee1' object has no attribute 'salary'",
     "output_type": "error",
     "traceback": [
      "\u001b[0;31m---------------------------------------------------------------------------\u001b[0m",
      "\u001b[0;31mAttributeError\u001b[0m                            Traceback (most recent call last)",
      "Cell \u001b[0;32mIn[124], line 1\u001b[0m\n\u001b[0;32m----> 1\u001b[0m \u001b[38;5;28mprint\u001b[39m(emp1\u001b[38;5;241m.\u001b[39msalary)\n",
      "\u001b[0;31mAttributeError\u001b[0m: 'Employee1' object has no attribute 'salary'"
     ]
    }
   ],
   "source": [
    "print(emp1.salary)"
   ]
  },
  {
   "cell_type": "code",
   "execution_count": 126,
   "id": "ed0fe1d8-8f61-4f8b-90e8-a12f09edea20",
   "metadata": {},
   "outputs": [
    {
     "name": "stdout",
     "output_type": "stream",
     "text": [
      "48000\n"
     ]
    }
   ],
   "source": [
    "emp1.show()"
   ]
  },
  {
   "cell_type": "code",
   "execution_count": 128,
   "id": "c369892f-3a71-4406-9cac-5f76b2384169",
   "metadata": {},
   "outputs": [],
   "source": [
    "# Inheritance\n",
    "\n",
    "class Emp2(Employee1):   # Emp2 => subclass, # Employee1 => superclass\n",
    "    pass"
   ]
  },
  {
   "cell_type": "code",
   "execution_count": 130,
   "id": "1634042f-1774-43b4-99d4-133bade0f6ff",
   "metadata": {},
   "outputs": [],
   "source": [
    "emp3 = Emp2('neha', 'kulkarni', 55000)"
   ]
  },
  {
   "cell_type": "code",
   "execution_count": 132,
   "id": "3ebf3026-b770-4990-8910-f69902505dbb",
   "metadata": {},
   "outputs": [
    {
     "name": "stdout",
     "output_type": "stream",
     "text": [
      "55000\n"
     ]
    }
   ],
   "source": [
    "emp3.show()"
   ]
  },
  {
   "cell_type": "code",
   "execution_count": 134,
   "id": "b83e87a3-dcc0-40e9-acc2-d51ee4547170",
   "metadata": {},
   "outputs": [],
   "source": [
    "'''\n",
    "create a class called person\n",
    "attributes=> name, age, city,... (make use of default parameters also)\n",
    "create a method which will show all the info of a person\n",
    "\n",
    "'''\n",
    "\n",
    "class Person():\n",
    "\n",
    "    def __init__ (self, n, a = 25):\n",
    "        self.name = n\n",
    "        self.age = a\n",
    "\n",
    "    def info(self):\n",
    "        print('name', self.name)\n",
    "        print('age', self.age)"
   ]
  },
  {
   "cell_type": "code",
   "execution_count": 138,
   "id": "1e8d5b08-8a69-406f-b895-fec5bbe245c8",
   "metadata": {},
   "outputs": [],
   "source": [
    "p1 = Person('Ajinkya', 21)"
   ]
  },
  {
   "cell_type": "code",
   "execution_count": 140,
   "id": "3f296d23-0eaa-4aac-ae41-3338b9db7e38",
   "metadata": {},
   "outputs": [],
   "source": [
    "p2 = Person('Neha')"
   ]
  },
  {
   "cell_type": "code",
   "execution_count": 142,
   "id": "9fbf808c-6e36-408c-b7ca-8b42e9595d3a",
   "metadata": {},
   "outputs": [
    {
     "name": "stdout",
     "output_type": "stream",
     "text": [
      "name Neha\n",
      "age 25\n"
     ]
    }
   ],
   "source": [
    "p2.info()"
   ]
  },
  {
   "cell_type": "code",
   "execution_count": null,
   "id": "74d3bfef-94d8-4e6d-a0b2-91cb44637818",
   "metadata": {},
   "outputs": [],
   "source": []
  }
 ],
 "metadata": {
  "kernelspec": {
   "display_name": "Python 3 (ipykernel)",
   "language": "python",
   "name": "python3"
  },
  "language_info": {
   "codemirror_mode": {
    "name": "ipython",
    "version": 3
   },
   "file_extension": ".py",
   "mimetype": "text/x-python",
   "name": "python",
   "nbconvert_exporter": "python",
   "pygments_lexer": "ipython3",
   "version": "3.11.9"
  }
 },
 "nbformat": 4,
 "nbformat_minor": 5
}
