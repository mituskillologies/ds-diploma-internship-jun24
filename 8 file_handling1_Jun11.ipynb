{
 "cells": [
  {
   "cell_type": "code",
   "execution_count": 2,
   "id": "b60fb42d-ab1a-4a13-aa67-3a2e8620fdbc",
   "metadata": {},
   "outputs": [],
   "source": [
    "f = open('maha.txt', 'r')"
   ]
  },
  {
   "cell_type": "code",
   "execution_count": 6,
   "id": "2cd1666c-f851-430d-9dd8-c7e43110ef91",
   "metadata": {},
   "outputs": [
    {
     "name": "stdout",
     "output_type": "stream",
     "text": [
      "maha.txt\n"
     ]
    }
   ],
   "source": [
    "print(f.name)"
   ]
  },
  {
   "cell_type": "code",
   "execution_count": 8,
   "id": "40dd6d45-433e-48fe-b636-1b53592d614d",
   "metadata": {},
   "outputs": [
    {
     "name": "stdout",
     "output_type": "stream",
     "text": [
      "The region that encompasses the state has a history going back many millennia. Notable dynasties that ruled the region include the Asmakas, the Mauryas, the Satavahanas, the Western Satraps, the Abhiras, the Vakatakas, the Chalukyas, the Rashtrakutas, the Western Chalukyas, the Seuna Yadavas, the Khaljis, the Tughlaqs, the Bahamanis and the Mughals. In the early nineteenth century, the region was divided beween the Dominions of the Peshwa in the Maratha Confederacy and the Nizamate of Hyderabad. After two wars and the proclamation of the Indian Empire, the region became a part of the Bombay Province, the Berar Province and the Central Provinces of India under direct British rule and the Deccan States Agency under Crown suzerainty. Between 1950 and 1956, the Bombay Province became the Bombay State in the Indian Union, and Berar, the Deccan states and the Gujarat states were merged into the Bombay State. On 1 May 1960, the State of Bombay was bifurcated into the State of Maharasthra and State of Gujarat after a long struggle for special state for Marathi language speaking people through Samyukta Maharashtra Movement (transl. United Maharashtra movement).\n",
      "\n"
     ]
    }
   ],
   "source": [
    "print(f.read())"
   ]
  },
  {
   "cell_type": "code",
   "execution_count": 10,
   "id": "93b33e9b-854a-43df-8897-1f4faa0be378",
   "metadata": {},
   "outputs": [
    {
     "name": "stdout",
     "output_type": "stream",
     "text": [
      "r\n"
     ]
    }
   ],
   "source": [
    "print(f.mode)"
   ]
  },
  {
   "cell_type": "code",
   "execution_count": 12,
   "id": "01567225-facf-42c1-97e1-3b0fef64c5ee",
   "metadata": {},
   "outputs": [],
   "source": [
    "f.close()"
   ]
  },
  {
   "cell_type": "code",
   "execution_count": 20,
   "id": "bce93011-1fea-49bb-b9b3-c3ab8bb7844d",
   "metadata": {},
   "outputs": [
    {
     "data": {
      "text/plain": [
       "True"
      ]
     },
     "execution_count": 20,
     "metadata": {},
     "output_type": "execute_result"
    }
   ],
   "source": [
    "f.closed"
   ]
  },
  {
   "cell_type": "code",
   "execution_count": 22,
   "id": "c354c861-e639-4d7c-854d-94ed2bf95d81",
   "metadata": {},
   "outputs": [],
   "source": [
    "# open with context manager\n",
    "\n",
    "with open('maha.txt', 'r') as f:\n",
    "    pass"
   ]
  },
  {
   "cell_type": "code",
   "execution_count": 24,
   "id": "687f5afa-65b1-44a4-867e-e4dbab5885e7",
   "metadata": {},
   "outputs": [
    {
     "data": {
      "text/plain": [
       "True"
      ]
     },
     "execution_count": 24,
     "metadata": {},
     "output_type": "execute_result"
    }
   ],
   "source": [
    "f.closed"
   ]
  },
  {
   "cell_type": "code",
   "execution_count": 26,
   "id": "b1a3fd91-eccb-463a-a8bb-a392f14f9477",
   "metadata": {},
   "outputs": [
    {
     "name": "stdout",
     "output_type": "stream",
     "text": [
      "The region that encompasses the state has a history going back many millennia. Notable dynasties that ruled the region include the Asmakas, the Mauryas, the Satavahanas, the Western Satraps, the Abhiras, the Vakatakas, the Chalukyas, the Rashtrakutas, the Western Chalukyas, the Seuna Yadavas, the Khaljis, the Tughlaqs, the Bahamanis and the Mughals. In the early nineteenth century, the region was divided beween the Dominions of the Peshwa in the Maratha Confederacy and the Nizamate of Hyderabad. After two wars and the proclamation of the Indian Empire, the region became a part of the Bombay Province, the Berar Province and the Central Provinces of India under direct British rule and the Deccan States Agency under Crown suzerainty. Between 1950 and 1956, the Bombay Province became the Bombay State in the Indian Union, and Berar, the Deccan states and the Gujarat states were merged into the Bombay State. On 1 May 1960, the State of Bombay was bifurcated into the State of Maharasthra and State of Gujarat after a long struggle for special state for Marathi language speaking people through Samyukta Maharashtra Movement (transl. United Maharashtra movement).\n",
      "\n"
     ]
    }
   ],
   "source": [
    "\n",
    "with open('maha.txt', 'r') as f:\n",
    "    content = f.read()\n",
    "    print(content)"
   ]
  },
  {
   "cell_type": "code",
   "execution_count": 28,
   "id": "f7ac8a40-bc2c-4843-a003-aa6deeeb68ab",
   "metadata": {},
   "outputs": [
    {
     "name": "stdout",
     "output_type": "stream",
     "text": [
      "['The region that encompasses the state has a history going back many millennia. Notable dynasties that ruled the region include the Asmakas, the Mauryas, the Satavahanas, the Western Satraps, the Abhiras, the Vakatakas, the Chalukyas, the Rashtrakutas, the Western Chalukyas, the Seuna Yadavas, the Khaljis, the Tughlaqs, the Bahamanis and the Mughals. In the early nineteenth century, the region was divided beween the Dominions of the Peshwa in the Maratha Confederacy and the Nizamate of Hyderabad. After two wars and the proclamation of the Indian Empire, the region became a part of the Bombay Province, the Berar Province and the Central Provinces of India under direct British rule and the Deccan States Agency under Crown suzerainty. Between 1950 and 1956, the Bombay Province became the Bombay State in the Indian Union, and Berar, the Deccan states and the Gujarat states were merged into the Bombay State. On 1 May 1960, the State of Bombay was bifurcated into the State of Maharasthra and State of Gujarat after a long struggle for special state for Marathi language speaking people through Samyukta Maharashtra Movement (transl.\\u2009United Maharashtra movement).\\n']\n"
     ]
    }
   ],
   "source": [
    "with open('maha.txt', 'r') as f:\n",
    "    content = f.readlines()\n",
    "    print(content)"
   ]
  },
  {
   "cell_type": "code",
   "execution_count": 30,
   "id": "65a8f5de-5ffd-478a-a0fb-0b09739c7659",
   "metadata": {},
   "outputs": [
    {
     "name": "stdout",
     "output_type": "stream",
     "text": [
      "['this is first line\\n', 'this is second line\\n', 'this is third line\\n', 'this is fourth line']\n"
     ]
    }
   ],
   "source": [
    "with open('test1.txt', 'r') as f:\n",
    "    content = f.readlines()\n",
    "    print(content)"
   ]
  },
  {
   "cell_type": "code",
   "execution_count": 32,
   "id": "3e53e947-8bae-4ddb-9533-9aefe8ea0b6a",
   "metadata": {},
   "outputs": [
    {
     "name": "stdout",
     "output_type": "stream",
     "text": [
      "this is first line\n",
      "\n"
     ]
    }
   ],
   "source": [
    "with open('test1.txt', 'r') as f:\n",
    "    content = f.readline()\n",
    "    print(content)"
   ]
  },
  {
   "cell_type": "code",
   "execution_count": 38,
   "id": "f110ece1-fbd2-499f-af12-5575cc4d0dde",
   "metadata": {},
   "outputs": [
    {
     "name": "stdout",
     "output_type": "stream",
     "text": [
      "this is first line\n",
      "this is second line\n",
      "\n"
     ]
    }
   ],
   "source": [
    "with open('test1.txt', 'r') as f:\n",
    "    content = f.readline()\n",
    "    print(content, end = '')\n",
    "\n",
    "    content = f.readline()\n",
    "    print(content)"
   ]
  },
  {
   "cell_type": "code",
   "execution_count": 42,
   "id": "231e998c-a2ce-4033-8e21-191d1e7d528b",
   "metadata": {},
   "outputs": [
    {
     "name": "stdout",
     "output_type": "stream",
     "text": [
      "this is first line\n",
      "this is second line\n",
      "this is third line\n",
      "this is fourth line"
     ]
    }
   ],
   "source": [
    "with open('test1.txt', 'r') as f:\n",
    "    for line in f:\n",
    "        print(line, end = '')"
   ]
  },
  {
   "cell_type": "code",
   "execution_count": 44,
   "id": "1d3f49df-d267-43b5-8fbf-dc3bb04b5715",
   "metadata": {},
   "outputs": [
    {
     "name": "stdout",
     "output_type": "stream",
     "text": [
      "thi\n"
     ]
    }
   ],
   "source": [
    "# read the 3 character\n",
    "\n",
    "with open('test1.txt', 'r') as f:\n",
    "    content = f.read(3)\n",
    "    print(content)"
   ]
  },
  {
   "cell_type": "code",
   "execution_count": 62,
   "id": "0f4701e1-2954-4e1c-ad41-1cd33860bad2",
   "metadata": {},
   "outputs": [
    {
     "name": "stdout",
     "output_type": "stream",
     "text": [
      "this *is fi*rst l*ine\n",
      "t*his i*s sec*ond l*ine\n",
      "t*his i*s thi*rd li*ne\n",
      "th*is is* four*th li*ne*"
     ]
    }
   ],
   "source": [
    "# use while loop to read entire file.. 5 characters at a time\n",
    "\n",
    "with open('test1.txt', 'r') as f:\n",
    "    size = 5\n",
    "\n",
    "    content = f.read(size)\n",
    "    while len(content) > 0:\n",
    "        print(content, end = '*')\n",
    "        content = f.read(size)"
   ]
  },
  {
   "cell_type": "code",
   "execution_count": 66,
   "id": "596d691e-3f97-4b00-8d3f-ae05a0f1cf9e",
   "metadata": {},
   "outputs": [
    {
     "name": "stdout",
     "output_type": "stream",
     "text": [
      "this \n",
      "this \n"
     ]
    }
   ],
   "source": [
    "# in the 2nd phase start from the start again\n",
    "\n",
    "with open('test1.txt', 'r') as f:\n",
    "    size = 5\n",
    "    content = f.read(size)\n",
    "    print(content)\n",
    "\n",
    "    f.seek(0)    # will start from the begining \n",
    "    \n",
    "    content = f.read(size)\n",
    "    print(content)"
   ]
  },
  {
   "cell_type": "markdown",
   "id": "0e9cd105-996c-43cf-a271-ac3b715cc8ec",
   "metadata": {},
   "source": [
    "### Write"
   ]
  },
  {
   "cell_type": "code",
   "execution_count": 69,
   "id": "d33903d2-c567-4a50-a3e2-f2000d869af5",
   "metadata": {},
   "outputs": [],
   "source": [
    "with open('write.txt', 'w') as w:\n",
    "    pass"
   ]
  },
  {
   "cell_type": "code",
   "execution_count": 71,
   "id": "87ee1d8c-9a6b-4dbe-99c7-496a2379c4be",
   "metadata": {},
   "outputs": [],
   "source": [
    "with open('write.txt', 'w') as w:\n",
    "    w.write('My name is Karan')"
   ]
  },
  {
   "cell_type": "code",
   "execution_count": 73,
   "id": "eddba747-ebb8-4f1c-81d9-4a88e78b6f03",
   "metadata": {},
   "outputs": [],
   "source": [
    "with open('write.txt', 'w') as w:\n",
    "    w.write('My name is Karan')\n",
    "    w.write('My name is Aryan')"
   ]
  },
  {
   "cell_type": "code",
   "execution_count": 81,
   "id": "8e94d0a7-c289-4f86-b333-e2daea42b4e6",
   "metadata": {},
   "outputs": [],
   "source": [
    "with open('write.txt', 'w') as w:\n",
    "    w.write('My name is Karan')\n",
    "    w.seek(0)\n",
    "    w.write('AAAA')"
   ]
  },
  {
   "cell_type": "code",
   "execution_count": 83,
   "id": "0d2f7764-d58b-4550-ae05-a8826d1b637c",
   "metadata": {},
   "outputs": [],
   "source": [
    "# create a new file which will be the copy of maha.txt\n",
    "\n",
    "with open('maha.txt', 'r') as rf:\n",
    "    with open('maha_copy.txt', 'w') as w:\n",
    "        for line in rf:\n",
    "            w.write(line)"
   ]
  },
  {
   "cell_type": "code",
   "execution_count": 85,
   "id": "ab010238-c91e-46d9-961a-12588f9ff570",
   "metadata": {},
   "outputs": [],
   "source": [
    "# image\n",
    "\n",
    "with open('/home/aditya/OLD/BACKUP/Wallpapers/wallpaperflare.com_wallpaper(4).jpg', 'rb') as f:\n",
    "    with open('wall_copy', 'wb') as w:\n",
    "        for line in f:\n",
    "            w.write(line)"
   ]
  },
  {
   "cell_type": "code",
   "execution_count": 87,
   "id": "8b78795e-18f0-496f-b2fe-04ab2263670a",
   "metadata": {},
   "outputs": [],
   "source": [
    "with open('nd.jpg', 'rb') as f:\n",
    "    with open('wall2_copy', 'wb') as w:\n",
    "        for line in f:\n",
    "            w.write(line)"
   ]
  },
  {
   "cell_type": "code",
   "execution_count": null,
   "id": "01e511f4-1a3a-498b-ba60-adf64dd9ab8c",
   "metadata": {},
   "outputs": [],
   "source": []
  }
 ],
 "metadata": {
  "kernelspec": {
   "display_name": "Python 3 (ipykernel)",
   "language": "python",
   "name": "python3"
  },
  "language_info": {
   "codemirror_mode": {
    "name": "ipython",
    "version": 3
   },
   "file_extension": ".py",
   "mimetype": "text/x-python",
   "name": "python",
   "nbconvert_exporter": "python",
   "pygments_lexer": "ipython3",
   "version": "3.11.9"
  }
 },
 "nbformat": 4,
 "nbformat_minor": 5
}
