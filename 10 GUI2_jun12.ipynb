{
 "cells": [
  {
   "cell_type": "code",
   "execution_count": 1,
   "id": "1c3bf3df-7b66-4adf-a002-6acd3dc5db87",
   "metadata": {},
   "outputs": [],
   "source": [
    "import tkinter as tk"
   ]
  },
  {
   "cell_type": "code",
   "execution_count": 41,
   "id": "fbcdbaa1-d5cf-4152-bf3c-bd240c97d022",
   "metadata": {},
   "outputs": [],
   "source": [
    "top = tk.Tk()\n",
    "\n",
    "top.title('My Apllication')\n",
    "top.geometry('700x500')\n",
    "\n",
    "'''b1 = tk.Button(top, text = 'Click me!!!', bg = 'Yellow').pack()\n",
    "e1 = tk.Entry(top).pack()\n",
    "t1 = tk.Text(top).pack()\n",
    "\n",
    "b1 = tk.Button(top, text = 'Click me!!!', bg = 'Yellow').grid(column=0, row = 0)\n",
    "e1 = tk.Entry(top).grid(column=1, row = 0)\n",
    "t1 = tk.Text(top).grid(column=2, row = 2)'''\n",
    "\n",
    "b1 = tk.Button(top, text = 'Click me!!!', bg = 'Yellow').place(x = 100, y = 150)\n",
    "e1 = tk.Entry(top).place(x = 100, y =100)\n",
    "t1 = tk.Text(top).place(x = 100, y = 200)\n",
    "top.mainloop()"
   ]
  },
  {
   "cell_type": "code",
   "execution_count": null,
   "id": "c860a1ba-469c-459a-a13b-663012002972",
   "metadata": {},
   "outputs": [],
   "source": []
  }
 ],
 "metadata": {
  "kernelspec": {
   "display_name": "Python 3 (ipykernel)",
   "language": "python",
   "name": "python3"
  },
  "language_info": {
   "codemirror_mode": {
    "name": "ipython",
    "version": 3
   },
   "file_extension": ".py",
   "mimetype": "text/x-python",
   "name": "python",
   "nbconvert_exporter": "python",
   "pygments_lexer": "ipython3",
   "version": "3.11.9"
  }
 },
 "nbformat": 4,
 "nbformat_minor": 5
}
