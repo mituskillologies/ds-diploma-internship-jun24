{
 "cells": [
  {
   "cell_type": "code",
   "execution_count": 2,
   "id": "03e233e2-4ca2-4c33-beed-6ade28fb746f",
   "metadata": {},
   "outputs": [],
   "source": [
    "import tkinter as tk"
   ]
  },
  {
   "cell_type": "code",
   "execution_count": 61,
   "id": "d58fcdd1-a553-40d7-893b-4498f7c100da",
   "metadata": {},
   "outputs": [],
   "source": [
    "top = tk.Tk()\n",
    "\n",
    "top.title('My Application')\n",
    "top.geometry('500x400')\n",
    "\n",
    "b1 = tk.Button(top, text = 'Click me!!!', bg = 'orange').grid(column=0, row=1)\n",
    "e1 = tk.Entry(top).grid(column=1, row=1)\n",
    "t1 = tk.Text(top).grid(column=2, row=2)\n",
    "l1 = tk.Label(top, text = 'Welcome', font = ('Ariel Bold', 50)).grid(column=2, row=3)\n",
    "\n",
    "top.mainloop()"
   ]
  },
  {
   "cell_type": "code",
   "execution_count": null,
   "id": "e337b7f2-11f7-4bf3-94ae-850f75c94641",
   "metadata": {},
   "outputs": [],
   "source": []
  }
 ],
 "metadata": {
  "kernelspec": {
   "display_name": "Python 3 (ipykernel)",
   "language": "python",
   "name": "python3"
  },
  "language_info": {
   "codemirror_mode": {
    "name": "ipython",
    "version": 3
   },
   "file_extension": ".py",
   "mimetype": "text/x-python",
   "name": "python",
   "nbconvert_exporter": "python",
   "pygments_lexer": "ipython3",
   "version": "3.11.9"
  }
 },
 "nbformat": 4,
 "nbformat_minor": 5
}
