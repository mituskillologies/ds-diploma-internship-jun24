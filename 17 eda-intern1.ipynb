{
 "cells": [
  {
   "cell_type": "code",
   "execution_count": 2,
   "metadata": {},
   "outputs": [],
   "source": [
    "import pandas as pd\n",
    "import numpy as np\n",
    "import matplotlib.pyplot as plt\n",
    "import seaborn as sns"
   ]
  },
  {
   "cell_type": "code",
   "execution_count": 3,
   "metadata": {},
   "outputs": [],
   "source": [
    "df = pd.read_csv('application_data.csv')\n",
    "col_desc = pd.read_csv('columns_description.csv')"
   ]
  },
  {
   "cell_type": "code",
   "execution_count": 6,
   "metadata": {},
   "outputs": [
    {
     "data": {
      "text/plain": [
       "(160, 5)"
      ]
     },
     "execution_count": 6,
     "metadata": {},
     "output_type": "execute_result"
    }
   ],
   "source": [
    "col_desc.shape"
   ]
  },
  {
   "cell_type": "code",
   "execution_count": 8,
   "metadata": {},
   "outputs": [
    {
     "data": {
      "text/html": [
       "<div>\n",
       "<style scoped>\n",
       "    .dataframe tbody tr th:only-of-type {\n",
       "        vertical-align: middle;\n",
       "    }\n",
       "\n",
       "    .dataframe tbody tr th {\n",
       "        vertical-align: top;\n",
       "    }\n",
       "\n",
       "    .dataframe thead th {\n",
       "        text-align: right;\n",
       "    }\n",
       "</style>\n",
       "<table border=\"1\" class=\"dataframe\">\n",
       "  <thead>\n",
       "    <tr style=\"text-align: right;\">\n",
       "      <th></th>\n",
       "      <th>Row</th>\n",
       "      <th>Description</th>\n",
       "    </tr>\n",
       "  </thead>\n",
       "  <tbody>\n",
       "    <tr>\n",
       "      <th>0</th>\n",
       "      <td>SK_ID_CURR</td>\n",
       "      <td>ID of loan in our sample</td>\n",
       "    </tr>\n",
       "    <tr>\n",
       "      <th>1</th>\n",
       "      <td>TARGET</td>\n",
       "      <td>Target variable (1 - client with payment diffi...</td>\n",
       "    </tr>\n",
       "    <tr>\n",
       "      <th>2</th>\n",
       "      <td>NAME_CONTRACT_TYPE</td>\n",
       "      <td>Identification if loan is cash or revolving</td>\n",
       "    </tr>\n",
       "    <tr>\n",
       "      <th>3</th>\n",
       "      <td>CODE_GENDER</td>\n",
       "      <td>Gender of the client</td>\n",
       "    </tr>\n",
       "    <tr>\n",
       "      <th>4</th>\n",
       "      <td>FLAG_OWN_CAR</td>\n",
       "      <td>Flag if the client owns a car</td>\n",
       "    </tr>\n",
       "    <tr>\n",
       "      <th>...</th>\n",
       "      <td>...</td>\n",
       "      <td>...</td>\n",
       "    </tr>\n",
       "    <tr>\n",
       "      <th>155</th>\n",
       "      <td>DAYS_FIRST_DUE</td>\n",
       "      <td>Relative to application date of current applic...</td>\n",
       "    </tr>\n",
       "    <tr>\n",
       "      <th>156</th>\n",
       "      <td>DAYS_LAST_DUE_1ST_VERSION</td>\n",
       "      <td>Relative to application date of current applic...</td>\n",
       "    </tr>\n",
       "    <tr>\n",
       "      <th>157</th>\n",
       "      <td>DAYS_LAST_DUE</td>\n",
       "      <td>Relative to application date of current applic...</td>\n",
       "    </tr>\n",
       "    <tr>\n",
       "      <th>158</th>\n",
       "      <td>DAYS_TERMINATION</td>\n",
       "      <td>Relative to application date of current applic...</td>\n",
       "    </tr>\n",
       "    <tr>\n",
       "      <th>159</th>\n",
       "      <td>NFLAG_INSURED_ON_APPROVAL</td>\n",
       "      <td>Did the client requested insurance during the ...</td>\n",
       "    </tr>\n",
       "  </tbody>\n",
       "</table>\n",
       "<p>160 rows × 2 columns</p>\n",
       "</div>"
      ],
      "text/plain": [
       "                           Row  \\\n",
       "0                   SK_ID_CURR   \n",
       "1                       TARGET   \n",
       "2           NAME_CONTRACT_TYPE   \n",
       "3                  CODE_GENDER   \n",
       "4                 FLAG_OWN_CAR   \n",
       "..                         ...   \n",
       "155             DAYS_FIRST_DUE   \n",
       "156  DAYS_LAST_DUE_1ST_VERSION   \n",
       "157              DAYS_LAST_DUE   \n",
       "158           DAYS_TERMINATION   \n",
       "159  NFLAG_INSURED_ON_APPROVAL   \n",
       "\n",
       "                                           Description  \n",
       "0                             ID of loan in our sample  \n",
       "1    Target variable (1 - client with payment diffi...  \n",
       "2          Identification if loan is cash or revolving  \n",
       "3                                 Gender of the client  \n",
       "4                        Flag if the client owns a car  \n",
       "..                                                 ...  \n",
       "155  Relative to application date of current applic...  \n",
       "156  Relative to application date of current applic...  \n",
       "157  Relative to application date of current applic...  \n",
       "158  Relative to application date of current applic...  \n",
       "159  Did the client requested insurance during the ...  \n",
       "\n",
       "[160 rows x 2 columns]"
      ]
     },
     "execution_count": 8,
     "metadata": {},
     "output_type": "execute_result"
    }
   ],
   "source": [
    "col_desc.iloc[:, [2,3]]"
   ]
  },
  {
   "cell_type": "code",
   "execution_count": 10,
   "metadata": {},
   "outputs": [
    {
     "data": {
      "text/plain": [
       "(307511, 122)"
      ]
     },
     "execution_count": 10,
     "metadata": {},
     "output_type": "execute_result"
    }
   ],
   "source": [
    "df.shape"
   ]
  },
  {
   "cell_type": "code",
   "execution_count": 12,
   "metadata": {},
   "outputs": [],
   "source": [
    "pd.set_option('display.max_columns', None)\n",
    "pd.set_option('display.max_rows', None)"
   ]
  },
  {
   "cell_type": "code",
   "execution_count": 14,
   "metadata": {},
   "outputs": [
    {
     "data": {
      "text/plain": [
       "SK_ID_CURR                        int64\n",
       "TARGET                            int64\n",
       "NAME_CONTRACT_TYPE               object\n",
       "CODE_GENDER                      object\n",
       "FLAG_OWN_CAR                     object\n",
       "FLAG_OWN_REALTY                  object\n",
       "CNT_CHILDREN                      int64\n",
       "AMT_INCOME_TOTAL                float64\n",
       "AMT_CREDIT                      float64\n",
       "AMT_ANNUITY                     float64\n",
       "AMT_GOODS_PRICE                 float64\n",
       "NAME_TYPE_SUITE                  object\n",
       "NAME_INCOME_TYPE                 object\n",
       "NAME_EDUCATION_TYPE              object\n",
       "NAME_FAMILY_STATUS               object\n",
       "NAME_HOUSING_TYPE                object\n",
       "REGION_POPULATION_RELATIVE      float64\n",
       "DAYS_BIRTH                        int64\n",
       "DAYS_EMPLOYED                     int64\n",
       "DAYS_REGISTRATION               float64\n",
       "DAYS_ID_PUBLISH                   int64\n",
       "OWN_CAR_AGE                     float64\n",
       "FLAG_MOBIL                        int64\n",
       "FLAG_EMP_PHONE                    int64\n",
       "FLAG_WORK_PHONE                   int64\n",
       "FLAG_CONT_MOBILE                  int64\n",
       "FLAG_PHONE                        int64\n",
       "FLAG_EMAIL                        int64\n",
       "OCCUPATION_TYPE                  object\n",
       "CNT_FAM_MEMBERS                 float64\n",
       "REGION_RATING_CLIENT              int64\n",
       "REGION_RATING_CLIENT_W_CITY       int64\n",
       "WEEKDAY_APPR_PROCESS_START       object\n",
       "HOUR_APPR_PROCESS_START           int64\n",
       "REG_REGION_NOT_LIVE_REGION        int64\n",
       "REG_REGION_NOT_WORK_REGION        int64\n",
       "LIVE_REGION_NOT_WORK_REGION       int64\n",
       "REG_CITY_NOT_LIVE_CITY            int64\n",
       "REG_CITY_NOT_WORK_CITY            int64\n",
       "LIVE_CITY_NOT_WORK_CITY           int64\n",
       "ORGANIZATION_TYPE                object\n",
       "EXT_SOURCE_1                    float64\n",
       "EXT_SOURCE_2                    float64\n",
       "EXT_SOURCE_3                    float64\n",
       "APARTMENTS_AVG                  float64\n",
       "BASEMENTAREA_AVG                float64\n",
       "YEARS_BEGINEXPLUATATION_AVG     float64\n",
       "YEARS_BUILD_AVG                 float64\n",
       "COMMONAREA_AVG                  float64\n",
       "ELEVATORS_AVG                   float64\n",
       "ENTRANCES_AVG                   float64\n",
       "FLOORSMAX_AVG                   float64\n",
       "FLOORSMIN_AVG                   float64\n",
       "LANDAREA_AVG                    float64\n",
       "LIVINGAPARTMENTS_AVG            float64\n",
       "LIVINGAREA_AVG                  float64\n",
       "NONLIVINGAPARTMENTS_AVG         float64\n",
       "NONLIVINGAREA_AVG               float64\n",
       "APARTMENTS_MODE                 float64\n",
       "BASEMENTAREA_MODE               float64\n",
       "YEARS_BEGINEXPLUATATION_MODE    float64\n",
       "YEARS_BUILD_MODE                float64\n",
       "COMMONAREA_MODE                 float64\n",
       "ELEVATORS_MODE                  float64\n",
       "ENTRANCES_MODE                  float64\n",
       "FLOORSMAX_MODE                  float64\n",
       "FLOORSMIN_MODE                  float64\n",
       "LANDAREA_MODE                   float64\n",
       "LIVINGAPARTMENTS_MODE           float64\n",
       "LIVINGAREA_MODE                 float64\n",
       "NONLIVINGAPARTMENTS_MODE        float64\n",
       "NONLIVINGAREA_MODE              float64\n",
       "APARTMENTS_MEDI                 float64\n",
       "BASEMENTAREA_MEDI               float64\n",
       "YEARS_BEGINEXPLUATATION_MEDI    float64\n",
       "YEARS_BUILD_MEDI                float64\n",
       "COMMONAREA_MEDI                 float64\n",
       "ELEVATORS_MEDI                  float64\n",
       "ENTRANCES_MEDI                  float64\n",
       "FLOORSMAX_MEDI                  float64\n",
       "FLOORSMIN_MEDI                  float64\n",
       "LANDAREA_MEDI                   float64\n",
       "LIVINGAPARTMENTS_MEDI           float64\n",
       "LIVINGAREA_MEDI                 float64\n",
       "NONLIVINGAPARTMENTS_MEDI        float64\n",
       "NONLIVINGAREA_MEDI              float64\n",
       "FONDKAPREMONT_MODE               object\n",
       "HOUSETYPE_MODE                   object\n",
       "TOTALAREA_MODE                  float64\n",
       "WALLSMATERIAL_MODE               object\n",
       "EMERGENCYSTATE_MODE              object\n",
       "OBS_30_CNT_SOCIAL_CIRCLE        float64\n",
       "DEF_30_CNT_SOCIAL_CIRCLE        float64\n",
       "OBS_60_CNT_SOCIAL_CIRCLE        float64\n",
       "DEF_60_CNT_SOCIAL_CIRCLE        float64\n",
       "DAYS_LAST_PHONE_CHANGE          float64\n",
       "FLAG_DOCUMENT_2                   int64\n",
       "FLAG_DOCUMENT_3                   int64\n",
       "FLAG_DOCUMENT_4                   int64\n",
       "FLAG_DOCUMENT_5                   int64\n",
       "FLAG_DOCUMENT_6                   int64\n",
       "FLAG_DOCUMENT_7                   int64\n",
       "FLAG_DOCUMENT_8                   int64\n",
       "FLAG_DOCUMENT_9                   int64\n",
       "FLAG_DOCUMENT_10                  int64\n",
       "FLAG_DOCUMENT_11                  int64\n",
       "FLAG_DOCUMENT_12                  int64\n",
       "FLAG_DOCUMENT_13                  int64\n",
       "FLAG_DOCUMENT_14                  int64\n",
       "FLAG_DOCUMENT_15                  int64\n",
       "FLAG_DOCUMENT_16                  int64\n",
       "FLAG_DOCUMENT_17                  int64\n",
       "FLAG_DOCUMENT_18                  int64\n",
       "FLAG_DOCUMENT_19                  int64\n",
       "FLAG_DOCUMENT_20                  int64\n",
       "FLAG_DOCUMENT_21                  int64\n",
       "AMT_REQ_CREDIT_BUREAU_HOUR      float64\n",
       "AMT_REQ_CREDIT_BUREAU_DAY       float64\n",
       "AMT_REQ_CREDIT_BUREAU_WEEK      float64\n",
       "AMT_REQ_CREDIT_BUREAU_MON       float64\n",
       "AMT_REQ_CREDIT_BUREAU_QRT       float64\n",
       "AMT_REQ_CREDIT_BUREAU_YEAR      float64\n",
       "dtype: object"
      ]
     },
     "execution_count": 14,
     "metadata": {},
     "output_type": "execute_result"
    }
   ],
   "source": [
    "df.dtypes"
   ]
  },
  {
   "cell_type": "code",
   "execution_count": 16,
   "metadata": {},
   "outputs": [
    {
     "data": {
      "text/plain": [
       "RangeIndex(start=0, stop=307511, step=1)"
      ]
     },
     "execution_count": 16,
     "metadata": {},
     "output_type": "execute_result"
    }
   ],
   "source": [
    "df.index"
   ]
  },
  {
   "cell_type": "code",
   "execution_count": 18,
   "metadata": {},
   "outputs": [
    {
     "data": {
      "text/plain": [
       "SK_ID_CURR                           0\n",
       "TARGET                               0\n",
       "NAME_CONTRACT_TYPE                   0\n",
       "CODE_GENDER                          0\n",
       "FLAG_OWN_CAR                         0\n",
       "FLAG_OWN_REALTY                      0\n",
       "CNT_CHILDREN                         0\n",
       "AMT_INCOME_TOTAL                     0\n",
       "AMT_CREDIT                           0\n",
       "AMT_ANNUITY                         12\n",
       "AMT_GOODS_PRICE                    278\n",
       "NAME_TYPE_SUITE                   1292\n",
       "NAME_INCOME_TYPE                     0\n",
       "NAME_EDUCATION_TYPE                  0\n",
       "NAME_FAMILY_STATUS                   0\n",
       "NAME_HOUSING_TYPE                    0\n",
       "REGION_POPULATION_RELATIVE           0\n",
       "DAYS_BIRTH                           0\n",
       "DAYS_EMPLOYED                        0\n",
       "DAYS_REGISTRATION                    0\n",
       "DAYS_ID_PUBLISH                      0\n",
       "OWN_CAR_AGE                     202929\n",
       "FLAG_MOBIL                           0\n",
       "FLAG_EMP_PHONE                       0\n",
       "FLAG_WORK_PHONE                      0\n",
       "FLAG_CONT_MOBILE                     0\n",
       "FLAG_PHONE                           0\n",
       "FLAG_EMAIL                           0\n",
       "OCCUPATION_TYPE                  96391\n",
       "CNT_FAM_MEMBERS                      2\n",
       "REGION_RATING_CLIENT                 0\n",
       "REGION_RATING_CLIENT_W_CITY          0\n",
       "WEEKDAY_APPR_PROCESS_START           0\n",
       "HOUR_APPR_PROCESS_START              0\n",
       "REG_REGION_NOT_LIVE_REGION           0\n",
       "REG_REGION_NOT_WORK_REGION           0\n",
       "LIVE_REGION_NOT_WORK_REGION          0\n",
       "REG_CITY_NOT_LIVE_CITY               0\n",
       "REG_CITY_NOT_WORK_CITY               0\n",
       "LIVE_CITY_NOT_WORK_CITY              0\n",
       "ORGANIZATION_TYPE                    0\n",
       "EXT_SOURCE_1                    173378\n",
       "EXT_SOURCE_2                       660\n",
       "EXT_SOURCE_3                     60965\n",
       "APARTMENTS_AVG                  156061\n",
       "BASEMENTAREA_AVG                179943\n",
       "YEARS_BEGINEXPLUATATION_AVG     150007\n",
       "YEARS_BUILD_AVG                 204488\n",
       "COMMONAREA_AVG                  214865\n",
       "ELEVATORS_AVG                   163891\n",
       "ENTRANCES_AVG                   154828\n",
       "FLOORSMAX_AVG                   153020\n",
       "FLOORSMIN_AVG                   208642\n",
       "LANDAREA_AVG                    182590\n",
       "LIVINGAPARTMENTS_AVG            210199\n",
       "LIVINGAREA_AVG                  154350\n",
       "NONLIVINGAPARTMENTS_AVG         213514\n",
       "NONLIVINGAREA_AVG               169682\n",
       "APARTMENTS_MODE                 156061\n",
       "BASEMENTAREA_MODE               179943\n",
       "YEARS_BEGINEXPLUATATION_MODE    150007\n",
       "YEARS_BUILD_MODE                204488\n",
       "COMMONAREA_MODE                 214865\n",
       "ELEVATORS_MODE                  163891\n",
       "ENTRANCES_MODE                  154828\n",
       "FLOORSMAX_MODE                  153020\n",
       "FLOORSMIN_MODE                  208642\n",
       "LANDAREA_MODE                   182590\n",
       "LIVINGAPARTMENTS_MODE           210199\n",
       "LIVINGAREA_MODE                 154350\n",
       "NONLIVINGAPARTMENTS_MODE        213514\n",
       "NONLIVINGAREA_MODE              169682\n",
       "APARTMENTS_MEDI                 156061\n",
       "BASEMENTAREA_MEDI               179943\n",
       "YEARS_BEGINEXPLUATATION_MEDI    150007\n",
       "YEARS_BUILD_MEDI                204488\n",
       "COMMONAREA_MEDI                 214865\n",
       "ELEVATORS_MEDI                  163891\n",
       "ENTRANCES_MEDI                  154828\n",
       "FLOORSMAX_MEDI                  153020\n",
       "FLOORSMIN_MEDI                  208642\n",
       "LANDAREA_MEDI                   182590\n",
       "LIVINGAPARTMENTS_MEDI           210199\n",
       "LIVINGAREA_MEDI                 154350\n",
       "NONLIVINGAPARTMENTS_MEDI        213514\n",
       "NONLIVINGAREA_MEDI              169682\n",
       "FONDKAPREMONT_MODE              210295\n",
       "HOUSETYPE_MODE                  154297\n",
       "TOTALAREA_MODE                  148431\n",
       "WALLSMATERIAL_MODE              156341\n",
       "EMERGENCYSTATE_MODE             145755\n",
       "OBS_30_CNT_SOCIAL_CIRCLE          1021\n",
       "DEF_30_CNT_SOCIAL_CIRCLE          1021\n",
       "OBS_60_CNT_SOCIAL_CIRCLE          1021\n",
       "DEF_60_CNT_SOCIAL_CIRCLE          1021\n",
       "DAYS_LAST_PHONE_CHANGE               1\n",
       "FLAG_DOCUMENT_2                      0\n",
       "FLAG_DOCUMENT_3                      0\n",
       "FLAG_DOCUMENT_4                      0\n",
       "FLAG_DOCUMENT_5                      0\n",
       "FLAG_DOCUMENT_6                      0\n",
       "FLAG_DOCUMENT_7                      0\n",
       "FLAG_DOCUMENT_8                      0\n",
       "FLAG_DOCUMENT_9                      0\n",
       "FLAG_DOCUMENT_10                     0\n",
       "FLAG_DOCUMENT_11                     0\n",
       "FLAG_DOCUMENT_12                     0\n",
       "FLAG_DOCUMENT_13                     0\n",
       "FLAG_DOCUMENT_14                     0\n",
       "FLAG_DOCUMENT_15                     0\n",
       "FLAG_DOCUMENT_16                     0\n",
       "FLAG_DOCUMENT_17                     0\n",
       "FLAG_DOCUMENT_18                     0\n",
       "FLAG_DOCUMENT_19                     0\n",
       "FLAG_DOCUMENT_20                     0\n",
       "FLAG_DOCUMENT_21                     0\n",
       "AMT_REQ_CREDIT_BUREAU_HOUR       41519\n",
       "AMT_REQ_CREDIT_BUREAU_DAY        41519\n",
       "AMT_REQ_CREDIT_BUREAU_WEEK       41519\n",
       "AMT_REQ_CREDIT_BUREAU_MON        41519\n",
       "AMT_REQ_CREDIT_BUREAU_QRT        41519\n",
       "AMT_REQ_CREDIT_BUREAU_YEAR       41519\n",
       "dtype: int64"
      ]
     },
     "execution_count": 18,
     "metadata": {},
     "output_type": "execute_result"
    }
   ],
   "source": [
    "df.isnull().sum()"
   ]
  },
  {
   "cell_type": "code",
   "execution_count": 20,
   "metadata": {},
   "outputs": [
    {
     "data": {
      "text/plain": [
       "SK_ID_CURR                       0.00\n",
       "TARGET                           0.00\n",
       "NAME_CONTRACT_TYPE               0.00\n",
       "CODE_GENDER                      0.00\n",
       "FLAG_OWN_CAR                     0.00\n",
       "FLAG_OWN_REALTY                  0.00\n",
       "CNT_CHILDREN                     0.00\n",
       "AMT_INCOME_TOTAL                 0.00\n",
       "AMT_CREDIT                       0.00\n",
       "AMT_ANNUITY                      0.00\n",
       "AMT_GOODS_PRICE                  0.09\n",
       "NAME_TYPE_SUITE                  0.42\n",
       "NAME_INCOME_TYPE                 0.00\n",
       "NAME_EDUCATION_TYPE              0.00\n",
       "NAME_FAMILY_STATUS               0.00\n",
       "NAME_HOUSING_TYPE                0.00\n",
       "REGION_POPULATION_RELATIVE       0.00\n",
       "DAYS_BIRTH                       0.00\n",
       "DAYS_EMPLOYED                    0.00\n",
       "DAYS_REGISTRATION                0.00\n",
       "DAYS_ID_PUBLISH                  0.00\n",
       "OWN_CAR_AGE                     65.99\n",
       "FLAG_MOBIL                       0.00\n",
       "FLAG_EMP_PHONE                   0.00\n",
       "FLAG_WORK_PHONE                  0.00\n",
       "FLAG_CONT_MOBILE                 0.00\n",
       "FLAG_PHONE                       0.00\n",
       "FLAG_EMAIL                       0.00\n",
       "OCCUPATION_TYPE                 31.35\n",
       "CNT_FAM_MEMBERS                  0.00\n",
       "REGION_RATING_CLIENT             0.00\n",
       "REGION_RATING_CLIENT_W_CITY      0.00\n",
       "WEEKDAY_APPR_PROCESS_START       0.00\n",
       "HOUR_APPR_PROCESS_START          0.00\n",
       "REG_REGION_NOT_LIVE_REGION       0.00\n",
       "REG_REGION_NOT_WORK_REGION       0.00\n",
       "LIVE_REGION_NOT_WORK_REGION      0.00\n",
       "REG_CITY_NOT_LIVE_CITY           0.00\n",
       "REG_CITY_NOT_WORK_CITY           0.00\n",
       "LIVE_CITY_NOT_WORK_CITY          0.00\n",
       "ORGANIZATION_TYPE                0.00\n",
       "EXT_SOURCE_1                    56.38\n",
       "EXT_SOURCE_2                     0.21\n",
       "EXT_SOURCE_3                    19.83\n",
       "APARTMENTS_AVG                  50.75\n",
       "BASEMENTAREA_AVG                58.52\n",
       "YEARS_BEGINEXPLUATATION_AVG     48.78\n",
       "YEARS_BUILD_AVG                 66.50\n",
       "COMMONAREA_AVG                  69.87\n",
       "ELEVATORS_AVG                   53.30\n",
       "ENTRANCES_AVG                   50.35\n",
       "FLOORSMAX_AVG                   49.76\n",
       "FLOORSMIN_AVG                   67.85\n",
       "LANDAREA_AVG                    59.38\n",
       "LIVINGAPARTMENTS_AVG            68.35\n",
       "LIVINGAREA_AVG                  50.19\n",
       "NONLIVINGAPARTMENTS_AVG         69.43\n",
       "NONLIVINGAREA_AVG               55.18\n",
       "APARTMENTS_MODE                 50.75\n",
       "BASEMENTAREA_MODE               58.52\n",
       "YEARS_BEGINEXPLUATATION_MODE    48.78\n",
       "YEARS_BUILD_MODE                66.50\n",
       "COMMONAREA_MODE                 69.87\n",
       "ELEVATORS_MODE                  53.30\n",
       "ENTRANCES_MODE                  50.35\n",
       "FLOORSMAX_MODE                  49.76\n",
       "FLOORSMIN_MODE                  67.85\n",
       "LANDAREA_MODE                   59.38\n",
       "LIVINGAPARTMENTS_MODE           68.35\n",
       "LIVINGAREA_MODE                 50.19\n",
       "NONLIVINGAPARTMENTS_MODE        69.43\n",
       "NONLIVINGAREA_MODE              55.18\n",
       "APARTMENTS_MEDI                 50.75\n",
       "BASEMENTAREA_MEDI               58.52\n",
       "YEARS_BEGINEXPLUATATION_MEDI    48.78\n",
       "YEARS_BUILD_MEDI                66.50\n",
       "COMMONAREA_MEDI                 69.87\n",
       "ELEVATORS_MEDI                  53.30\n",
       "ENTRANCES_MEDI                  50.35\n",
       "FLOORSMAX_MEDI                  49.76\n",
       "FLOORSMIN_MEDI                  67.85\n",
       "LANDAREA_MEDI                   59.38\n",
       "LIVINGAPARTMENTS_MEDI           68.35\n",
       "LIVINGAREA_MEDI                 50.19\n",
       "NONLIVINGAPARTMENTS_MEDI        69.43\n",
       "NONLIVINGAREA_MEDI              55.18\n",
       "FONDKAPREMONT_MODE              68.39\n",
       "HOUSETYPE_MODE                  50.18\n",
       "TOTALAREA_MODE                  48.27\n",
       "WALLSMATERIAL_MODE              50.84\n",
       "EMERGENCYSTATE_MODE             47.40\n",
       "OBS_30_CNT_SOCIAL_CIRCLE         0.33\n",
       "DEF_30_CNT_SOCIAL_CIRCLE         0.33\n",
       "OBS_60_CNT_SOCIAL_CIRCLE         0.33\n",
       "DEF_60_CNT_SOCIAL_CIRCLE         0.33\n",
       "DAYS_LAST_PHONE_CHANGE           0.00\n",
       "FLAG_DOCUMENT_2                  0.00\n",
       "FLAG_DOCUMENT_3                  0.00\n",
       "FLAG_DOCUMENT_4                  0.00\n",
       "FLAG_DOCUMENT_5                  0.00\n",
       "FLAG_DOCUMENT_6                  0.00\n",
       "FLAG_DOCUMENT_7                  0.00\n",
       "FLAG_DOCUMENT_8                  0.00\n",
       "FLAG_DOCUMENT_9                  0.00\n",
       "FLAG_DOCUMENT_10                 0.00\n",
       "FLAG_DOCUMENT_11                 0.00\n",
       "FLAG_DOCUMENT_12                 0.00\n",
       "FLAG_DOCUMENT_13                 0.00\n",
       "FLAG_DOCUMENT_14                 0.00\n",
       "FLAG_DOCUMENT_15                 0.00\n",
       "FLAG_DOCUMENT_16                 0.00\n",
       "FLAG_DOCUMENT_17                 0.00\n",
       "FLAG_DOCUMENT_18                 0.00\n",
       "FLAG_DOCUMENT_19                 0.00\n",
       "FLAG_DOCUMENT_20                 0.00\n",
       "FLAG_DOCUMENT_21                 0.00\n",
       "AMT_REQ_CREDIT_BUREAU_HOUR      13.50\n",
       "AMT_REQ_CREDIT_BUREAU_DAY       13.50\n",
       "AMT_REQ_CREDIT_BUREAU_WEEK      13.50\n",
       "AMT_REQ_CREDIT_BUREAU_MON       13.50\n",
       "AMT_REQ_CREDIT_BUREAU_QRT       13.50\n",
       "AMT_REQ_CREDIT_BUREAU_YEAR      13.50\n",
       "dtype: float64"
      ]
     },
     "execution_count": 20,
     "metadata": {},
     "output_type": "execute_result"
    }
   ],
   "source": [
    "df_null = round(df.isnull().sum()*100/len(df), 2)\n",
    "df_null"
   ]
  },
  {
   "cell_type": "code",
   "execution_count": 22,
   "metadata": {},
   "outputs": [
    {
     "data": {
      "text/plain": [
       "OWN_CAR_AGE                     65.99\n",
       "OCCUPATION_TYPE                 31.35\n",
       "EXT_SOURCE_1                    56.38\n",
       "APARTMENTS_AVG                  50.75\n",
       "BASEMENTAREA_AVG                58.52\n",
       "YEARS_BEGINEXPLUATATION_AVG     48.78\n",
       "YEARS_BUILD_AVG                 66.50\n",
       "COMMONAREA_AVG                  69.87\n",
       "ELEVATORS_AVG                   53.30\n",
       "ENTRANCES_AVG                   50.35\n",
       "FLOORSMAX_AVG                   49.76\n",
       "FLOORSMIN_AVG                   67.85\n",
       "LANDAREA_AVG                    59.38\n",
       "LIVINGAPARTMENTS_AVG            68.35\n",
       "LIVINGAREA_AVG                  50.19\n",
       "NONLIVINGAPARTMENTS_AVG         69.43\n",
       "NONLIVINGAREA_AVG               55.18\n",
       "APARTMENTS_MODE                 50.75\n",
       "BASEMENTAREA_MODE               58.52\n",
       "YEARS_BEGINEXPLUATATION_MODE    48.78\n",
       "YEARS_BUILD_MODE                66.50\n",
       "COMMONAREA_MODE                 69.87\n",
       "ELEVATORS_MODE                  53.30\n",
       "ENTRANCES_MODE                  50.35\n",
       "FLOORSMAX_MODE                  49.76\n",
       "FLOORSMIN_MODE                  67.85\n",
       "LANDAREA_MODE                   59.38\n",
       "LIVINGAPARTMENTS_MODE           68.35\n",
       "LIVINGAREA_MODE                 50.19\n",
       "NONLIVINGAPARTMENTS_MODE        69.43\n",
       "NONLIVINGAREA_MODE              55.18\n",
       "APARTMENTS_MEDI                 50.75\n",
       "BASEMENTAREA_MEDI               58.52\n",
       "YEARS_BEGINEXPLUATATION_MEDI    48.78\n",
       "YEARS_BUILD_MEDI                66.50\n",
       "COMMONAREA_MEDI                 69.87\n",
       "ELEVATORS_MEDI                  53.30\n",
       "ENTRANCES_MEDI                  50.35\n",
       "FLOORSMAX_MEDI                  49.76\n",
       "FLOORSMIN_MEDI                  67.85\n",
       "LANDAREA_MEDI                   59.38\n",
       "LIVINGAPARTMENTS_MEDI           68.35\n",
       "LIVINGAREA_MEDI                 50.19\n",
       "NONLIVINGAPARTMENTS_MEDI        69.43\n",
       "NONLIVINGAREA_MEDI              55.18\n",
       "FONDKAPREMONT_MODE              68.39\n",
       "HOUSETYPE_MODE                  50.18\n",
       "TOTALAREA_MODE                  48.27\n",
       "WALLSMATERIAL_MODE              50.84\n",
       "EMERGENCYSTATE_MODE             47.40\n",
       "dtype: float64"
      ]
     },
     "execution_count": 22,
     "metadata": {},
     "output_type": "execute_result"
    }
   ],
   "source": [
    "null_v = df_null[df_null >= 30]\n",
    "null_v"
   ]
  },
  {
   "cell_type": "code",
   "execution_count": 24,
   "metadata": {},
   "outputs": [
    {
     "data": {
      "text/plain": [
       "['OWN_CAR_AGE',\n",
       " 'OCCUPATION_TYPE',\n",
       " 'EXT_SOURCE_1',\n",
       " 'APARTMENTS_AVG',\n",
       " 'BASEMENTAREA_AVG',\n",
       " 'YEARS_BEGINEXPLUATATION_AVG',\n",
       " 'YEARS_BUILD_AVG',\n",
       " 'COMMONAREA_AVG',\n",
       " 'ELEVATORS_AVG',\n",
       " 'ENTRANCES_AVG',\n",
       " 'FLOORSMAX_AVG',\n",
       " 'FLOORSMIN_AVG',\n",
       " 'LANDAREA_AVG',\n",
       " 'LIVINGAPARTMENTS_AVG',\n",
       " 'LIVINGAREA_AVG',\n",
       " 'NONLIVINGAPARTMENTS_AVG',\n",
       " 'NONLIVINGAREA_AVG',\n",
       " 'APARTMENTS_MODE',\n",
       " 'BASEMENTAREA_MODE',\n",
       " 'YEARS_BEGINEXPLUATATION_MODE',\n",
       " 'YEARS_BUILD_MODE',\n",
       " 'COMMONAREA_MODE',\n",
       " 'ELEVATORS_MODE',\n",
       " 'ENTRANCES_MODE',\n",
       " 'FLOORSMAX_MODE',\n",
       " 'FLOORSMIN_MODE',\n",
       " 'LANDAREA_MODE',\n",
       " 'LIVINGAPARTMENTS_MODE',\n",
       " 'LIVINGAREA_MODE',\n",
       " 'NONLIVINGAPARTMENTS_MODE',\n",
       " 'NONLIVINGAREA_MODE',\n",
       " 'APARTMENTS_MEDI',\n",
       " 'BASEMENTAREA_MEDI',\n",
       " 'YEARS_BEGINEXPLUATATION_MEDI',\n",
       " 'YEARS_BUILD_MEDI',\n",
       " 'COMMONAREA_MEDI',\n",
       " 'ELEVATORS_MEDI',\n",
       " 'ENTRANCES_MEDI',\n",
       " 'FLOORSMAX_MEDI',\n",
       " 'FLOORSMIN_MEDI',\n",
       " 'LANDAREA_MEDI',\n",
       " 'LIVINGAPARTMENTS_MEDI',\n",
       " 'LIVINGAREA_MEDI',\n",
       " 'NONLIVINGAPARTMENTS_MEDI',\n",
       " 'NONLIVINGAREA_MEDI',\n",
       " 'FONDKAPREMONT_MODE',\n",
       " 'HOUSETYPE_MODE',\n",
       " 'TOTALAREA_MODE',\n",
       " 'WALLSMATERIAL_MODE',\n",
       " 'EMERGENCYSTATE_MODE']"
      ]
     },
     "execution_count": 24,
     "metadata": {},
     "output_type": "execute_result"
    }
   ],
   "source": [
    "cols_to_drop = list(null_v.index)\n",
    "cols_to_drop"
   ]
  },
  {
   "cell_type": "code",
   "execution_count": 26,
   "metadata": {},
   "outputs": [],
   "source": [
    "df.drop(cols_to_drop, axis = 1, inplace = True)"
   ]
  },
  {
   "cell_type": "code",
   "execution_count": 28,
   "metadata": {},
   "outputs": [
    {
     "data": {
      "text/plain": [
       "SK_ID_CURR                         0\n",
       "TARGET                             0\n",
       "NAME_CONTRACT_TYPE                 0\n",
       "CODE_GENDER                        0\n",
       "FLAG_OWN_CAR                       0\n",
       "FLAG_OWN_REALTY                    0\n",
       "CNT_CHILDREN                       0\n",
       "AMT_INCOME_TOTAL                   0\n",
       "AMT_CREDIT                         0\n",
       "AMT_ANNUITY                       12\n",
       "AMT_GOODS_PRICE                  278\n",
       "NAME_TYPE_SUITE                 1292\n",
       "NAME_INCOME_TYPE                   0\n",
       "NAME_EDUCATION_TYPE                0\n",
       "NAME_FAMILY_STATUS                 0\n",
       "NAME_HOUSING_TYPE                  0\n",
       "REGION_POPULATION_RELATIVE         0\n",
       "DAYS_BIRTH                         0\n",
       "DAYS_EMPLOYED                      0\n",
       "DAYS_REGISTRATION                  0\n",
       "DAYS_ID_PUBLISH                    0\n",
       "FLAG_MOBIL                         0\n",
       "FLAG_EMP_PHONE                     0\n",
       "FLAG_WORK_PHONE                    0\n",
       "FLAG_CONT_MOBILE                   0\n",
       "FLAG_PHONE                         0\n",
       "FLAG_EMAIL                         0\n",
       "CNT_FAM_MEMBERS                    2\n",
       "REGION_RATING_CLIENT               0\n",
       "REGION_RATING_CLIENT_W_CITY        0\n",
       "WEEKDAY_APPR_PROCESS_START         0\n",
       "HOUR_APPR_PROCESS_START            0\n",
       "REG_REGION_NOT_LIVE_REGION         0\n",
       "REG_REGION_NOT_WORK_REGION         0\n",
       "LIVE_REGION_NOT_WORK_REGION        0\n",
       "REG_CITY_NOT_LIVE_CITY             0\n",
       "REG_CITY_NOT_WORK_CITY             0\n",
       "LIVE_CITY_NOT_WORK_CITY            0\n",
       "ORGANIZATION_TYPE                  0\n",
       "EXT_SOURCE_2                     660\n",
       "EXT_SOURCE_3                   60965\n",
       "OBS_30_CNT_SOCIAL_CIRCLE        1021\n",
       "DEF_30_CNT_SOCIAL_CIRCLE        1021\n",
       "OBS_60_CNT_SOCIAL_CIRCLE        1021\n",
       "DEF_60_CNT_SOCIAL_CIRCLE        1021\n",
       "DAYS_LAST_PHONE_CHANGE             1\n",
       "FLAG_DOCUMENT_2                    0\n",
       "FLAG_DOCUMENT_3                    0\n",
       "FLAG_DOCUMENT_4                    0\n",
       "FLAG_DOCUMENT_5                    0\n",
       "FLAG_DOCUMENT_6                    0\n",
       "FLAG_DOCUMENT_7                    0\n",
       "FLAG_DOCUMENT_8                    0\n",
       "FLAG_DOCUMENT_9                    0\n",
       "FLAG_DOCUMENT_10                   0\n",
       "FLAG_DOCUMENT_11                   0\n",
       "FLAG_DOCUMENT_12                   0\n",
       "FLAG_DOCUMENT_13                   0\n",
       "FLAG_DOCUMENT_14                   0\n",
       "FLAG_DOCUMENT_15                   0\n",
       "FLAG_DOCUMENT_16                   0\n",
       "FLAG_DOCUMENT_17                   0\n",
       "FLAG_DOCUMENT_18                   0\n",
       "FLAG_DOCUMENT_19                   0\n",
       "FLAG_DOCUMENT_20                   0\n",
       "FLAG_DOCUMENT_21                   0\n",
       "AMT_REQ_CREDIT_BUREAU_HOUR     41519\n",
       "AMT_REQ_CREDIT_BUREAU_DAY      41519\n",
       "AMT_REQ_CREDIT_BUREAU_WEEK     41519\n",
       "AMT_REQ_CREDIT_BUREAU_MON      41519\n",
       "AMT_REQ_CREDIT_BUREAU_QRT      41519\n",
       "AMT_REQ_CREDIT_BUREAU_YEAR     41519\n",
       "dtype: int64"
      ]
     },
     "execution_count": 28,
     "metadata": {},
     "output_type": "execute_result"
    }
   ],
   "source": [
    "df.isna().sum()"
   ]
  },
  {
   "cell_type": "code",
   "execution_count": 30,
   "metadata": {},
   "outputs": [
    {
     "data": {
      "text/plain": [
       "(307511, 72)"
      ]
     },
     "execution_count": 30,
     "metadata": {},
     "output_type": "execute_result"
    }
   ],
   "source": [
    "df.shape"
   ]
  },
  {
   "cell_type": "code",
   "execution_count": 32,
   "metadata": {},
   "outputs": [
    {
     "data": {
      "text/plain": [
       "Index(['SK_ID_CURR', 'TARGET', 'NAME_CONTRACT_TYPE', 'CODE_GENDER',\n",
       "       'FLAG_OWN_CAR', 'FLAG_OWN_REALTY', 'CNT_CHILDREN', 'AMT_INCOME_TOTAL',\n",
       "       'AMT_CREDIT', 'AMT_ANNUITY', 'AMT_GOODS_PRICE', 'NAME_TYPE_SUITE',\n",
       "       'NAME_INCOME_TYPE', 'NAME_EDUCATION_TYPE', 'NAME_FAMILY_STATUS',\n",
       "       'NAME_HOUSING_TYPE', 'REGION_POPULATION_RELATIVE', 'DAYS_BIRTH',\n",
       "       'DAYS_EMPLOYED', 'DAYS_REGISTRATION', 'DAYS_ID_PUBLISH', 'FLAG_MOBIL',\n",
       "       'FLAG_EMP_PHONE', 'FLAG_WORK_PHONE', 'FLAG_CONT_MOBILE', 'FLAG_PHONE',\n",
       "       'FLAG_EMAIL', 'CNT_FAM_MEMBERS', 'REGION_RATING_CLIENT',\n",
       "       'REGION_RATING_CLIENT_W_CITY', 'WEEKDAY_APPR_PROCESS_START',\n",
       "       'HOUR_APPR_PROCESS_START', 'REG_REGION_NOT_LIVE_REGION',\n",
       "       'REG_REGION_NOT_WORK_REGION', 'LIVE_REGION_NOT_WORK_REGION',\n",
       "       'REG_CITY_NOT_LIVE_CITY', 'REG_CITY_NOT_WORK_CITY',\n",
       "       'LIVE_CITY_NOT_WORK_CITY', 'ORGANIZATION_TYPE', 'EXT_SOURCE_2',\n",
       "       'EXT_SOURCE_3', 'OBS_30_CNT_SOCIAL_CIRCLE', 'DEF_30_CNT_SOCIAL_CIRCLE',\n",
       "       'OBS_60_CNT_SOCIAL_CIRCLE', 'DEF_60_CNT_SOCIAL_CIRCLE',\n",
       "       'DAYS_LAST_PHONE_CHANGE', 'FLAG_DOCUMENT_2', 'FLAG_DOCUMENT_3',\n",
       "       'FLAG_DOCUMENT_4', 'FLAG_DOCUMENT_5', 'FLAG_DOCUMENT_6',\n",
       "       'FLAG_DOCUMENT_7', 'FLAG_DOCUMENT_8', 'FLAG_DOCUMENT_9',\n",
       "       'FLAG_DOCUMENT_10', 'FLAG_DOCUMENT_11', 'FLAG_DOCUMENT_12',\n",
       "       'FLAG_DOCUMENT_13', 'FLAG_DOCUMENT_14', 'FLAG_DOCUMENT_15',\n",
       "       'FLAG_DOCUMENT_16', 'FLAG_DOCUMENT_17', 'FLAG_DOCUMENT_18',\n",
       "       'FLAG_DOCUMENT_19', 'FLAG_DOCUMENT_20', 'FLAG_DOCUMENT_21',\n",
       "       'AMT_REQ_CREDIT_BUREAU_HOUR', 'AMT_REQ_CREDIT_BUREAU_DAY',\n",
       "       'AMT_REQ_CREDIT_BUREAU_WEEK', 'AMT_REQ_CREDIT_BUREAU_MON',\n",
       "       'AMT_REQ_CREDIT_BUREAU_QRT', 'AMT_REQ_CREDIT_BUREAU_YEAR'],\n",
       "      dtype='object')"
      ]
     },
     "execution_count": 32,
     "metadata": {},
     "output_type": "execute_result"
    }
   ],
   "source": [
    "df.columns"
   ]
  },
  {
   "cell_type": "code",
   "execution_count": 40,
   "metadata": {},
   "outputs": [
    {
     "data": {
      "text/plain": [
       "count    3.075110e+05\n",
       "mean     1.687979e+05\n",
       "std      2.371231e+05\n",
       "min      2.565000e+04\n",
       "25%      1.125000e+05\n",
       "50%      1.471500e+05\n",
       "75%      2.025000e+05\n",
       "max      1.170000e+08\n",
       "Name: AMT_INCOME_TOTAL, dtype: float64"
      ]
     },
     "execution_count": 40,
     "metadata": {},
     "output_type": "execute_result"
    }
   ],
   "source": [
    "df['AMT_INCOME_TOTAL'].describe()"
   ]
  },
  {
   "cell_type": "code",
   "execution_count": 45,
   "metadata": {},
   "outputs": [],
   "source": [
    "# check for outliers"
   ]
  },
  {
   "cell_type": "code",
   "execution_count": 53,
   "metadata": {},
   "outputs": [
    {
     "data": {
      "image/png": "[encoded data removed]",
      "text/plain": [
       "<Figure size 640x480 with 1 Axes>"
      ]
     },
     "metadata": {},
     "output_type": "display_data"
    }
   ],
   "source": [
    "sns.boxplot(df['AMT_INCOME_TOTAL']);\n",
    "plt.title('outliers in income');"
   ]
  },
  {
   "cell_type": "code",
   "execution_count": 63,
   "metadata": {},
   "outputs": [],
   "source": [
    "def ol(data):\n",
    "    q3 = np.percentile(data, 75)\n",
    "    q1 = np.percentile(data, 25)\n",
    "    \n",
    "    iqr = q3 - q1\n",
    "    \n",
    "    ub = q3 + (1.5 * iqr)\n",
    "    lb = q1 - (1.5 * iqr)\n",
    "\n",
    "    return ub, lb"
   ]
  },
  {
   "cell_type": "code",
   "execution_count": 65,
   "metadata": {},
   "outputs": [],
   "source": [
    "ub, lb = ol(df['AMT_INCOME_TOTAL'])"
   ]
  },
  {
   "cell_type": "code",
   "execution_count": 67,
   "metadata": {},
   "outputs": [],
   "source": [
    "# filtering the data without outliers\n",
    "df = df[(df['AMT_INCOME_TOTAL'] <= ub) & (df['AMT_INCOME_TOTAL'] >= lb)]"
   ]
  },
  {
   "cell_type": "code",
   "execution_count": 69,
   "metadata": {},
   "outputs": [
    {
     "data": {
      "image/png": "[encoded data removed]",
      "text/plain": [
       "<Figure size 640x480 with 1 Axes>"
      ]
     },
     "metadata": {},
     "output_type": "display_data"
    }
   ],
   "source": [
    "sns.boxplot(df['AMT_INCOME_TOTAL']);\n",
    "plt.title('outliers in income');"
   ]
  },
  {
   "cell_type": "code",
   "execution_count": 71,
   "metadata": {},
   "outputs": [],
   "source": [
    "ub, lb = ol(df['CNT_CHILDREN'])"
   ]
  },
  {
   "cell_type": "code",
   "execution_count": 73,
   "metadata": {},
   "outputs": [],
   "source": [
    "df = df[(df['CNT_CHILDREN'] <= ub) & (df['CNT_CHILDREN'] >= lb)]"
   ]
  },
  {
   "cell_type": "code",
   "execution_count": null,
   "metadata": {},
   "outputs": [],
   "source": []
  }
 ],
 "metadata": {
  "kaggle": {
   "accelerator": "none",
   "dataSources": [
    {
     "datasetId": 807638,
     "sourceId": 1383922,
     "sourceType": "datasetVersion"
    }
   ],
   "dockerImageVersionId": 30732,
   "isGpuEnabled": false,
   "isInternetEnabled": true,
   "language": "python",
   "sourceType": "notebook"
  },
  "kernelspec": {
   "display_name": "Python 3 (ipykernel)",
   "language": "python",
   "name": "python3"
  },
  "language_info": {
   "codemirror_mode": {
    "name": "ipython",
    "version": 3
   },
   "file_extension": ".py",
   "mimetype": "text/x-python",
   "name": "python",
   "nbconvert_exporter": "python",
   "pygments_lexer": "ipython3",
   "version": "3.11.9"
  }
 },
 "nbformat": 4,
 "nbformat_minor": 4
}
