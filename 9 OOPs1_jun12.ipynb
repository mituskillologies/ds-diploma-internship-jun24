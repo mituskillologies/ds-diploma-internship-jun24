{
 "cells": [
  {
   "cell_type": "code",
   "execution_count": 2,
   "id": "a0540b93-370f-414c-b278-686fd3c20242",
   "metadata": {},
   "outputs": [],
   "source": [
    "class Employee():     # class creation\n",
    "    pass"
   ]
  },
  {
   "cell_type": "code",
   "execution_count": 4,
   "id": "1d64b5f6-ba7c-4eb8-bb1b-b801117c9717",
   "metadata": {},
   "outputs": [],
   "source": [
    "emp1 = Employee()   # instance of a class\n",
    "emp2 = Employee()"
   ]
  },
  {
   "cell_type": "code",
   "execution_count": 6,
   "id": "47a6a6e9-7aa7-4f7d-a8b2-60e9cf423ea6",
   "metadata": {},
   "outputs": [
    {
     "name": "stdout",
     "output_type": "stream",
     "text": [
      "<__main__.Employee object at 0x78fb64484250>\n",
      "<__main__.Employee object at 0x78fb644843d0>\n"
     ]
    }
   ],
   "source": [
    "print(emp1)\n",
    "print(emp2)"
   ]
  },
  {
   "cell_type": "code",
   "execution_count": 8,
   "id": "6e131c8d-2d32-443b-aa4f-c4a54de1d4c1",
   "metadata": {},
   "outputs": [],
   "source": [
    "emp1.first = 'Natasha'      # instance variable\n",
    "emp1.last = 'Negi'\n",
    "emp1.salary = '52000' \n",
    "\n",
    "emp2.first = 'Raj'      # instance variable\n",
    "emp2.last = 'sharma'\n",
    "emp2.salary = '50000' "
   ]
  },
  {
   "cell_type": "code",
   "execution_count": 10,
   "id": "c1ff07eb-dace-4de5-9c7f-62aba1bdb8f4",
   "metadata": {},
   "outputs": [
    {
     "name": "stdout",
     "output_type": "stream",
     "text": [
      "Natasha\n"
     ]
    }
   ],
   "source": [
    "print(emp1.first)"
   ]
  },
  {
   "cell_type": "code",
   "execution_count": 12,
   "id": "04fb2647-e4ca-43e0-910a-a82293cbd738",
   "metadata": {},
   "outputs": [
    {
     "name": "stdout",
     "output_type": "stream",
     "text": [
      "50000\n"
     ]
    }
   ],
   "source": [
    "print(emp2.salary)"
   ]
  },
  {
   "cell_type": "code",
   "execution_count": 31,
   "id": "38b894f1-6336-4a2e-86c7-1181b60a5082",
   "metadata": {},
   "outputs": [],
   "source": [
    "class Employee():\n",
    "\n",
    "    def __init__ (self, first, last, salary):\n",
    "        self.first = first   # => emp1.first = 'Ravi'\n",
    "        self.last = last\n",
    "        self.salary = salary\n",
    "\n",
    "    def show(self):\n",
    "        print(self.first + ' ' + 'ok')"
   ]
  },
  {
   "cell_type": "code",
   "execution_count": 33,
   "id": "96e8a128-81d3-470e-bebe-29e59c13e658",
   "metadata": {},
   "outputs": [],
   "source": [
    "emp1 = Employee('Ravi', 'Tyagi', 55000)\n",
    "emp2 = Employee('Neha', 'Kulkarni', 54000)"
   ]
  },
  {
   "cell_type": "code",
   "execution_count": 35,
   "id": "71c85b32-49d7-4df0-8409-221931810e9f",
   "metadata": {},
   "outputs": [
    {
     "data": {
      "text/plain": [
       "'Ravi'"
      ]
     },
     "execution_count": 35,
     "metadata": {},
     "output_type": "execute_result"
    }
   ],
   "source": [
    "emp1.first"
   ]
  },
  {
   "cell_type": "code",
   "execution_count": 38,
   "id": "f60af6f8-8d0f-4d7b-98c3-e2ee828f334a",
   "metadata": {},
   "outputs": [
    {
     "name": "stdout",
     "output_type": "stream",
     "text": [
      "Ravi ok\n"
     ]
    }
   ],
   "source": [
    "emp1.show()"
   ]
  },
  {
   "cell_type": "code",
   "execution_count": 50,
   "id": "f3947ebf-694d-465a-ba36-478749c8f1d2",
   "metadata": {},
   "outputs": [],
   "source": [
    "# Encapsulation\n",
    "\n",
    "class Employee1():\n",
    "\n",
    "    def __init__ (self, first, last, salary):\n",
    "        self.first = first   \n",
    "        self.last = last\n",
    "        self.__salary = salary   # creating a private variable\n",
    "\n",
    "    def display(self):\n",
    "        print('Salary is', self.__salary)"
   ]
  },
  {
   "cell_type": "code",
   "execution_count": 52,
   "id": "f7aa0e58-3dbe-44a3-b3a0-3e4e0cdce751",
   "metadata": {},
   "outputs": [],
   "source": [
    "emp3 = Employee1('Akash', 'Tyagi', 30000)\n",
    "emp4 = Employee1('Pranav', 'Patil', 32000)"
   ]
  },
  {
   "cell_type": "code",
   "execution_count": 54,
   "id": "da41d49c-d779-44b0-b618-2aa67557e1b6",
   "metadata": {},
   "outputs": [
    {
     "data": {
      "text/plain": [
       "'Akash'"
      ]
     },
     "execution_count": 54,
     "metadata": {},
     "output_type": "execute_result"
    }
   ],
   "source": [
    "emp3.first"
   ]
  },
  {
   "cell_type": "code",
   "execution_count": 56,
   "id": "3069522d-c48e-443f-ba00-6c54b366d8cc",
   "metadata": {},
   "outputs": [
    {
     "name": "stdout",
     "output_type": "stream",
     "text": [
      "Salary is 30000\n"
     ]
    }
   ],
   "source": [
    "emp3.display()"
   ]
  },
  {
   "cell_type": "code",
   "execution_count": 58,
   "id": "79764969-f9c4-4290-a88b-c1f3069dff57",
   "metadata": {},
   "outputs": [],
   "source": [
    "# inheritance\n",
    "\n",
    "class Employee2(Employee1):\n",
    "    pass"
   ]
  },
  {
   "cell_type": "code",
   "execution_count": 60,
   "id": "975685f0-c20c-4620-8577-a27b0d3dbb46",
   "metadata": {},
   "outputs": [],
   "source": [
    "emp5 = Employee2('Aniket', 'Rana', 60000)"
   ]
  },
  {
   "cell_type": "code",
   "execution_count": 64,
   "id": "40174a30-157f-4995-9d79-30ff06d9baaa",
   "metadata": {},
   "outputs": [
    {
     "name": "stdout",
     "output_type": "stream",
     "text": [
      "Salary is 60000\n"
     ]
    }
   ],
   "source": [
    "emp5.display()"
   ]
  },
  {
   "cell_type": "code",
   "execution_count": 68,
   "id": "e1f9b408-69f3-4122-9945-5f8e4c415e47",
   "metadata": {},
   "outputs": [],
   "source": [
    "'''\n",
    "create a class called person\n",
    "take in name, age, hobby,....  (make use of default parameters also)\n",
    "create multiple objects\n",
    "create a method to display all the info\n",
    "''';"
   ]
  },
  {
   "cell_type": "code",
   "execution_count": 76,
   "id": "cf88d3b7-1e35-4c5c-b7fd-364580320203",
   "metadata": {},
   "outputs": [],
   "source": [
    "class Person():\n",
    "\n",
    "    def __init__ (self, n, a = 22):\n",
    "        self.name = n\n",
    "        self.age = a\n",
    "\n",
    "    def info(self):\n",
    "        print('Name:', self.name, 'Age:', self.age)"
   ]
  },
  {
   "cell_type": "code",
   "execution_count": 78,
   "id": "bed4cc18-de85-4320-aaf8-7601e10522dc",
   "metadata": {},
   "outputs": [],
   "source": [
    "p1 = Person('Raj', 34)"
   ]
  },
  {
   "cell_type": "code",
   "execution_count": 80,
   "id": "2ce73c5d-59be-4ff9-a8af-5a24aa8f1cd3",
   "metadata": {},
   "outputs": [
    {
     "name": "stdout",
     "output_type": "stream",
     "text": [
      "Name: Raj Age: 34\n"
     ]
    }
   ],
   "source": [
    "p1.info()"
   ]
  },
  {
   "cell_type": "code",
   "execution_count": 82,
   "id": "d8602aa5-bc74-4404-a01f-e8ba4410a0a1",
   "metadata": {},
   "outputs": [],
   "source": [
    "p2 = Person('Neha')"
   ]
  },
  {
   "cell_type": "code",
   "execution_count": 84,
   "id": "a53adde3-3c75-4b4e-9a14-73636649187a",
   "metadata": {},
   "outputs": [
    {
     "name": "stdout",
     "output_type": "stream",
     "text": [
      "Name: Neha Age: 22\n"
     ]
    }
   ],
   "source": [
    "p2.info()"
   ]
  },
  {
   "cell_type": "code",
   "execution_count": null,
   "id": "dfaabe8e-8252-4d55-9f7e-d97848c83808",
   "metadata": {},
   "outputs": [],
   "source": []
  }
 ],
 "metadata": {
  "kernelspec": {
   "display_name": "Python 3 (ipykernel)",
   "language": "python",
   "name": "python3"
  },
  "language_info": {
   "codemirror_mode": {
    "name": "ipython",
    "version": 3
   },
   "file_extension": ".py",
   "mimetype": "text/x-python",
   "name": "python",
   "nbconvert_exporter": "python",
   "pygments_lexer": "ipython3",
   "version": "3.11.9"
  }
 },
 "nbformat": 4,
 "nbformat_minor": 5
}
