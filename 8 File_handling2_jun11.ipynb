{
 "cells": [
  {
   "cell_type": "code",
   "execution_count": 2,
   "id": "cb3bcf0d-d136-4c97-b798-184e27122347",
   "metadata": {},
   "outputs": [],
   "source": [
    "f = open('maha.txt', 'r')"
   ]
  },
  {
   "cell_type": "code",
   "execution_count": 4,
   "id": "50a133d3-785a-4803-a5e1-db50c1112944",
   "metadata": {},
   "outputs": [
    {
     "data": {
      "text/plain": [
       "\"Maharashtra is one of the most industrialised states in India. The state's capital, Mumbai, is India's financial and commercial capital.[24] India's largest stock exchange Bombay Stock Exchange, the oldest in Asia, is located in the city, as is National Stock Exchange, which is the second largest stock exchange in India and one of world's largest derivatives exchanges. The state has played a significant role in the country's social and political life and is widely considered a leader in terms of agricultural and industrial production, trade and transport, and education.[25] Maharashtra is the ninth-highest ranking among Indian states in the human development index.[26]\""
      ]
     },
     "execution_count": 4,
     "metadata": {},
     "output_type": "execute_result"
    }
   ],
   "source": [
    "f.read()"
   ]
  },
  {
   "cell_type": "code",
   "execution_count": 6,
   "id": "371fc92c-03f3-4d37-897f-82bf26e6f415",
   "metadata": {},
   "outputs": [
    {
     "name": "stdout",
     "output_type": "stream",
     "text": [
      "maha.txt\n"
     ]
    }
   ],
   "source": [
    "print(f.name)"
   ]
  },
  {
   "cell_type": "code",
   "execution_count": 8,
   "id": "16ebda27-671b-4401-836d-403a56abeb60",
   "metadata": {},
   "outputs": [
    {
     "name": "stdout",
     "output_type": "stream",
     "text": [
      "r\n"
     ]
    }
   ],
   "source": [
    "print(f.mode)"
   ]
  },
  {
   "cell_type": "code",
   "execution_count": 12,
   "id": "c37b83ff-d8ea-44b2-92cb-22502fe0afdc",
   "metadata": {},
   "outputs": [
    {
     "name": "stdout",
     "output_type": "stream",
     "text": [
      "False\n"
     ]
    }
   ],
   "source": [
    "print(f.closed)"
   ]
  },
  {
   "cell_type": "code",
   "execution_count": 14,
   "id": "4bb27f13-3a0a-47c5-a612-610b34d0a5e2",
   "metadata": {},
   "outputs": [],
   "source": [
    "f.close()"
   ]
  },
  {
   "cell_type": "code",
   "execution_count": 16,
   "id": "66bd3f2b-c6f9-4e9e-8cc8-7d40d1668b16",
   "metadata": {},
   "outputs": [
    {
     "name": "stdout",
     "output_type": "stream",
     "text": [
      "True\n"
     ]
    }
   ],
   "source": [
    "print(f.closed)"
   ]
  },
  {
   "cell_type": "code",
   "execution_count": 22,
   "id": "2695e4ec-713f-4801-8d63-65222fd74fe1",
   "metadata": {},
   "outputs": [
    {
     "data": {
      "text/plain": [
       "<_io.TextIOWrapper name='maha.txt' mode='r' encoding='UTF-8'>"
      ]
     },
     "execution_count": 22,
     "metadata": {},
     "output_type": "execute_result"
    }
   ],
   "source": [
    "f"
   ]
  },
  {
   "cell_type": "code",
   "execution_count": 24,
   "id": "b13d7452-0df7-4749-8869-069e98f33ed3",
   "metadata": {},
   "outputs": [],
   "source": [
    "with open('maha.txt', 'r') as f:\n",
    "    pass"
   ]
  },
  {
   "cell_type": "code",
   "execution_count": 32,
   "id": "d3bfdd85-ca72-4824-88c8-9e63a433f511",
   "metadata": {},
   "outputs": [
    {
     "name": "stdout",
     "output_type": "stream",
     "text": [
      "True\n"
     ]
    }
   ],
   "source": [
    "print(f.closed)"
   ]
  },
  {
   "cell_type": "code",
   "execution_count": 34,
   "id": "6018b96d-bef5-4698-b863-1e1b9e7ab2c6",
   "metadata": {},
   "outputs": [
    {
     "name": "stdout",
     "output_type": "stream",
     "text": [
      "Maharashtra is one of the most industrialised states in India. The state's capital, Mumbai, is India's financial and commercial capital.[24] India's largest stock exchange Bombay Stock Exchange, the oldest in Asia, is located in the city, as is National Stock Exchange, which is the second largest stock exchange in India and one of world's largest derivatives exchanges. The state has played a significant role in the country's social and political life and is widely considered a leader in terms of agricultural and industrial production, trade and transport, and education.[25] Maharashtra is the ninth-highest ranking among Indian states in the human development index.[26]\n"
     ]
    }
   ],
   "source": [
    "with open('maha.txt', 'r') as f:\n",
    "    content = f.read()\n",
    "    print(content)"
   ]
  },
  {
   "cell_type": "code",
   "execution_count": 36,
   "id": "09937a0b-c073-4d78-9a7e-59aa4fe68e3f",
   "metadata": {},
   "outputs": [
    {
     "name": "stdout",
     "output_type": "stream",
     "text": [
      "[\"Maharashtra is one of the most industrialised states in India. The state's capital, Mumbai, is India's financial and commercial capital.[24] India's largest stock exchange Bombay Stock Exchange, the oldest in Asia, is located in the city, as is National Stock Exchange, which is the second largest stock exchange in India and one of world's largest derivatives exchanges. The state has played a significant role in the country's social and political life and is widely considered a leader in terms of agricultural and industrial production, trade and transport, and education.[25] Maharashtra is the ninth-highest ranking among Indian states in the human development index.[26]\"]\n"
     ]
    }
   ],
   "source": [
    "with open('maha.txt', 'r') as f:\n",
    "    content = f.readlines()\n",
    "    print(content)"
   ]
  },
  {
   "cell_type": "code",
   "execution_count": 38,
   "id": "f82cea05-d70e-4d53-95c7-fea294dfef5e",
   "metadata": {},
   "outputs": [
    {
     "name": "stdout",
     "output_type": "stream",
     "text": [
      "['this is first line\\n', 'this is second line\\n', 'this is third line\\n', 'this is fourth line']\n"
     ]
    }
   ],
   "source": [
    "with open('test1.txt', 'r') as f:\n",
    "    content = f.readlines()\n",
    "    print(content)"
   ]
  },
  {
   "cell_type": "code",
   "execution_count": 40,
   "id": "8dba07cc-2b19-4df2-823a-6d90a05f96f9",
   "metadata": {},
   "outputs": [
    {
     "name": "stdout",
     "output_type": "stream",
     "text": [
      "this is first line\n",
      "\n"
     ]
    }
   ],
   "source": [
    "with open('test1.txt', 'r') as f:\n",
    "    content = f.readline()\n",
    "    print(content)"
   ]
  },
  {
   "cell_type": "code",
   "execution_count": 46,
   "id": "38bf7470-e223-4bb9-a44a-c3fc45a52b26",
   "metadata": {},
   "outputs": [
    {
     "name": "stdout",
     "output_type": "stream",
     "text": [
      "this is first line\n",
      "this is second line\n"
     ]
    }
   ],
   "source": [
    "with open('test1.txt', 'r') as f:\n",
    "    content = f.readline()\n",
    "    print(content, end = '')\n",
    "\n",
    "    content = f.readline()\n",
    "    print(content, end = '')"
   ]
  },
  {
   "cell_type": "code",
   "execution_count": 50,
   "id": "42e98ae4-db03-485e-9783-969f13f003a1",
   "metadata": {},
   "outputs": [
    {
     "name": "stdout",
     "output_type": "stream",
     "text": [
      "this is first line\n",
      "this is second line\n",
      "this is third line\n",
      "this is fourth line"
     ]
    }
   ],
   "source": [
    "# use loop\n",
    "\n",
    "with open('test1.txt', 'r') as f:\n",
    "    for line in f:\n",
    "        print(line, end = '')"
   ]
  },
  {
   "cell_type": "code",
   "execution_count": 54,
   "id": "5b16a269-ff44-4dde-8591-14a62a801db6",
   "metadata": {},
   "outputs": [
    {
     "name": "stdout",
     "output_type": "stream",
     "text": [
      "this \n",
      "is fi\n"
     ]
    }
   ],
   "source": [
    "with open('test1.txt', 'r') as f:\n",
    "    content = f.read(5)\n",
    "    print(content)\n",
    "\n",
    "    content = f.read(5)\n",
    "    print(content)"
   ]
  },
  {
   "cell_type": "code",
   "execution_count": 74,
   "id": "0a4571df-c8f5-4c65-81ec-0973fe98da53",
   "metadata": {},
   "outputs": [
    {
     "name": "stdout",
     "output_type": "stream",
     "text": [
      "this is first line\n",
      "this is second line\n",
      "this is third line\n",
      "this is fourth line"
     ]
    }
   ],
   "source": [
    "# use while loop\n",
    "\n",
    "with open('test1.txt', 'r') as f:\n",
    "    size = 5\n",
    "    content = f.read(size)\n",
    "    \n",
    "    while len(content) > 0:\n",
    "        print(content, end = '')\n",
    "        content = f.read(size)    "
   ]
  },
  {
   "cell_type": "code",
   "execution_count": 70,
   "id": "72771fe9-414f-483f-bd4f-335504324b00",
   "metadata": {},
   "outputs": [
    {
     "name": "stdout",
     "output_type": "stream",
     "text": [
      "this \n",
      "this \n"
     ]
    }
   ],
   "source": [
    "with open('test1.txt', 'r') as f:\n",
    "    content = f.read(5)\n",
    "    print(content)\n",
    "\n",
    "    f.seek(0)\n",
    "    \n",
    "    content = f.read(5)\n",
    "    print(content)"
   ]
  },
  {
   "cell_type": "markdown",
   "id": "c89bfc00-8176-4d83-bb95-a9b5036f7af7",
   "metadata": {},
   "source": [
    "### write"
   ]
  },
  {
   "cell_type": "code",
   "execution_count": 77,
   "id": "63b73edc-ee9e-4485-a013-0085007577f9",
   "metadata": {},
   "outputs": [],
   "source": [
    "with open('test2.txt', 'w') as w:\n",
    "    pass"
   ]
  },
  {
   "cell_type": "code",
   "execution_count": 85,
   "id": "755342a0-efa0-4e68-aa69-d073862d4bca",
   "metadata": {},
   "outputs": [],
   "source": [
    "with open('test2.txt', 'w') as w:\n",
    "    w.write('this is first number')"
   ]
  },
  {
   "cell_type": "code",
   "execution_count": 91,
   "id": "2cda212b-c2ad-402c-9a10-fba390a6e769",
   "metadata": {},
   "outputs": [],
   "source": [
    "with open('test2.txt', 'w') as w:\n",
    "    w.write('slide')\n",
    "    w.seek(0)\n",
    "    w.write('g')"
   ]
  },
  {
   "cell_type": "code",
   "execution_count": 97,
   "id": "1b3866aa-7361-453d-8172-b89355dedce0",
   "metadata": {},
   "outputs": [],
   "source": [
    "with open('test1.txt', 'r') as rf:\n",
    "    with open('test1_copy.txt', 'w') as w:\n",
    "        for line in rf:\n",
    "            w.write(line)"
   ]
  },
  {
   "cell_type": "code",
   "execution_count": 99,
   "id": "c9ab59f0-6c72-45b2-9fb3-c0da57649d8f",
   "metadata": {},
   "outputs": [],
   "source": [
    "with open('test2_copy.txt', 'w') as w:\n",
    "    with open('test1.txt', 'r') as rf:\n",
    "        for line in rf:\n",
    "            w.write(line)"
   ]
  },
  {
   "cell_type": "code",
   "execution_count": 105,
   "id": "67c47bec-238e-4807-be09-9e6f385a6b52",
   "metadata": {},
   "outputs": [],
   "source": [
    "# image\n",
    "\n",
    "with open('wallpaper1.jpg', 'rb') as rf:\n",
    "    with open('wall1_copy.jpg', 'wb') as w:\n",
    "        for line in rf:\n",
    "            w.write(line)"
   ]
  },
  {
   "cell_type": "code",
   "execution_count": null,
   "id": "c68f9f7f-77b2-4909-a4f6-744f66d0b4e7",
   "metadata": {},
   "outputs": [],
   "source": []
  }
 ],
 "metadata": {
  "kernelspec": {
   "display_name": "Python 3 (ipykernel)",
   "language": "python",
   "name": "python3"
  },
  "language_info": {
   "codemirror_mode": {
    "name": "ipython",
    "version": 3
   },
   "file_extension": ".py",
   "mimetype": "text/x-python",
   "name": "python",
   "nbconvert_exporter": "python",
   "pygments_lexer": "ipython3",
   "version": "3.11.9"
  }
 },
 "nbformat": 4,
 "nbformat_minor": 5
}
