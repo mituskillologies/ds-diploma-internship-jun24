{
 "cells": [
  {
   "cell_type": "code",
   "execution_count": 2,
   "id": "afeab623-7c7b-4fc2-b003-985f9909b003",
   "metadata": {},
   "outputs": [],
   "source": [
    "def show():                 # function definition\n",
    "    print('Hello')\n",
    "    print('Welcome')\n",
    "    print('khana kha k jaana')"
   ]
  },
  {
   "cell_type": "code",
   "execution_count": 8,
   "id": "53d509e9-5001-4402-bc7a-77630e29c497",
   "metadata": {},
   "outputs": [
    {
     "name": "stdout",
     "output_type": "stream",
     "text": [
      "Hello\n",
      "Welcome\n",
      "khana kha k jaana\n"
     ]
    }
   ],
   "source": [
    "show()   # calling the function"
   ]
  },
  {
   "cell_type": "code",
   "execution_count": 6,
   "id": "292ec2bd-5797-41c8-871c-5bd6662f66a4",
   "metadata": {},
   "outputs": [
    {
     "name": "stdout",
     "output_type": "stream",
     "text": [
      "Hello\n",
      "Welcome\n",
      "khana kha k jaana\n",
      "Hello\n",
      "Welcome\n",
      "khana kha k jaana\n",
      "Hello\n",
      "Welcome\n",
      "khana kha k jaana\n"
     ]
    }
   ],
   "source": [
    "show()\n",
    "show()\n",
    "show()"
   ]
  },
  {
   "cell_type": "code",
   "execution_count": 10,
   "id": "3aebdce6-0ded-4db4-8a7b-09d888db65d8",
   "metadata": {},
   "outputs": [],
   "source": [
    "# parameterized function\n",
    "\n",
    "def square(a):\n",
    "    result = a * a\n",
    "    print('Square is', result)"
   ]
  },
  {
   "cell_type": "code",
   "execution_count": 12,
   "id": "1fea9f78-0d1a-4955-b219-059ccc4d2c24",
   "metadata": {},
   "outputs": [
    {
     "name": "stdout",
     "output_type": "stream",
     "text": [
      "Square is 100\n"
     ]
    }
   ],
   "source": [
    "square(10)"
   ]
  },
  {
   "cell_type": "code",
   "execution_count": 14,
   "id": "d921f8c5-9e47-4a86-b739-bb3d34ae2f26",
   "metadata": {},
   "outputs": [
    {
     "ename": "TypeError",
     "evalue": "square() missing 1 required positional argument: 'a'",
     "output_type": "error",
     "traceback": [
      "\u001b[0;31m---------------------------------------------------------------------------\u001b[0m",
      "\u001b[0;31mTypeError\u001b[0m                                 Traceback (most recent call last)",
      "Cell \u001b[0;32mIn[14], line 1\u001b[0m\n\u001b[0;32m----> 1\u001b[0m square()\n",
      "\u001b[0;31mTypeError\u001b[0m: square() missing 1 required positional argument: 'a'"
     ]
    }
   ],
   "source": [
    "square()"
   ]
  },
  {
   "cell_type": "code",
   "execution_count": 22,
   "id": "31a7102e-d766-46e6-87f8-103f93b1855d",
   "metadata": {},
   "outputs": [],
   "source": [
    "# multi parameterized function\n",
    "\n",
    "def large(x, y):\n",
    "    if x > y:\n",
    "        print('largest is', x)\n",
    "    elif x == y:\n",
    "        print('Equal')\n",
    "    else:\n",
    "        print('largest is', y)"
   ]
  },
  {
   "cell_type": "code",
   "execution_count": 24,
   "id": "0728085d-e124-495f-8330-b4501713ef86",
   "metadata": {},
   "outputs": [
    {
     "name": "stdout",
     "output_type": "stream",
     "text": [
      "largest is 12\n"
     ]
    }
   ],
   "source": [
    "large(12, 10)"
   ]
  },
  {
   "cell_type": "code",
   "execution_count": 26,
   "id": "63d65326-5176-473e-b7d7-a7883f8d4d37",
   "metadata": {},
   "outputs": [
    {
     "name": "stdout",
     "output_type": "stream",
     "text": [
      "Equal\n"
     ]
    }
   ],
   "source": [
    "large(10, 10)"
   ]
  },
  {
   "cell_type": "code",
   "execution_count": 28,
   "id": "12babb7f-8491-4ac9-ae83-a6f76e360eff",
   "metadata": {},
   "outputs": [],
   "source": [
    "# function which will accept a value and will print n number of times\n",
    "\n",
    "def dis(name, count):\n",
    "    for i in range(count):\n",
    "        print(name)"
   ]
  },
  {
   "cell_type": "code",
   "execution_count": 30,
   "id": "a2358bfe-7dab-47c0-8c54-4e18b3abb1cd",
   "metadata": {},
   "outputs": [
    {
     "name": "stdout",
     "output_type": "stream",
     "text": [
      "Pune\n",
      "Pune\n",
      "Pune\n",
      "Pune\n",
      "Pune\n",
      "Pune\n",
      "Pune\n"
     ]
    }
   ],
   "source": [
    "dis('Pune', 7)"
   ]
  },
  {
   "cell_type": "code",
   "execution_count": 32,
   "id": "50f4d9a4-c7b0-4439-bb0c-d4dca8fd6873",
   "metadata": {},
   "outputs": [],
   "source": [
    "# create a function for factorial\n",
    "\n",
    "def facto(n):\n",
    "    fact = 1\n",
    "    for i in range(1, n+1):\n",
    "        fact = fact * i\n",
    "    print('Factorial is', fact)"
   ]
  },
  {
   "cell_type": "code",
   "execution_count": 34,
   "id": "ce5e6b69-92c6-4fec-80f7-b6440eaf526f",
   "metadata": {},
   "outputs": [
    {
     "name": "stdout",
     "output_type": "stream",
     "text": [
      "Factorial is 120\n"
     ]
    }
   ],
   "source": [
    "facto(5)"
   ]
  },
  {
   "cell_type": "code",
   "execution_count": 36,
   "id": "ff303aeb-760e-457d-8b4f-6ac437b01fb3",
   "metadata": {},
   "outputs": [],
   "source": [
    "# function returning values\n",
    "\n",
    "def square(n):\n",
    "    result = n * n\n",
    "    return result"
   ]
  },
  {
   "cell_type": "code",
   "execution_count": 38,
   "id": "79fbe974-0491-4377-bbab-18e01c5ead03",
   "metadata": {},
   "outputs": [
    {
     "data": {
      "text/plain": [
       "100"
      ]
     },
     "execution_count": 38,
     "metadata": {},
     "output_type": "execute_result"
    }
   ],
   "source": [
    "square(10)"
   ]
  },
  {
   "cell_type": "markdown",
   "id": "5a4ecf6c-0ab1-40b1-8a18-349a479f23d0",
   "metadata": {},
   "source": [
    "#### difference between print and returnm"
   ]
  },
  {
   "cell_type": "code",
   "execution_count": 55,
   "id": "9424861f-d408-4dff-a047-8c74fa43a7fc",
   "metadata": {
    "scrolled": true
   },
   "outputs": [
    {
     "name": "stdout",
     "output_type": "stream",
     "text": [
      "12\n",
      "12\n",
      "Addition is None\n"
     ]
    }
   ],
   "source": [
    "def add2(x, y):\n",
    "    result = x + y\n",
    "    print(result)\n",
    "\n",
    "add2(5, 7)\n",
    "\n",
    "op = add2(5,7)\n",
    "\n",
    "print('Addition is', op)"
   ]
  },
  {
   "cell_type": "code",
   "execution_count": 57,
   "id": "ac6dac22-8d7f-4bcc-ae2e-03f5f6b04cde",
   "metadata": {},
   "outputs": [
    {
     "name": "stdout",
     "output_type": "stream",
     "text": [
      "Addition is 12\n"
     ]
    }
   ],
   "source": [
    "def add2(x, y):\n",
    "    result = x + y\n",
    "    return result\n",
    "\n",
    "add2(5, 7)\n",
    "\n",
    "op = add2(5,7)\n",
    "\n",
    "print('Addition is', op)"
   ]
  },
  {
   "cell_type": "code",
   "execution_count": 59,
   "id": "06302ea9-d161-4f89-9c72-b52b192858f3",
   "metadata": {},
   "outputs": [],
   "source": [
    "def large(x, y):\n",
    "    if x > y:\n",
    "        return x\n",
    "    elif x == y:\n",
    "        return 'Equal'\n",
    "    else:\n",
    "        return y"
   ]
  },
  {
   "cell_type": "code",
   "execution_count": 61,
   "id": "5c23c5cc-bd0c-4ce4-b338-0d354b57ea27",
   "metadata": {},
   "outputs": [
    {
     "data": {
      "text/plain": [
       "'Equal'"
      ]
     },
     "execution_count": 61,
     "metadata": {},
     "output_type": "execute_result"
    }
   ],
   "source": [
    "large(10, 10)"
   ]
  },
  {
   "cell_type": "code",
   "execution_count": 65,
   "id": "69d14bd2-4f76-4945-8124-df76d21bab52",
   "metadata": {},
   "outputs": [],
   "source": [
    "\n",
    "def facto(n):\n",
    "    fact = 1\n",
    "    for i in range(1, n+1):\n",
    "        fact = fact * i\n",
    "    return fact"
   ]
  },
  {
   "cell_type": "code",
   "execution_count": 71,
   "id": "4e8087ad-a597-411e-a542-d01f9ad7f238",
   "metadata": {},
   "outputs": [
    {
     "name": "stdout",
     "output_type": "stream",
     "text": [
      "120.0\n"
     ]
    }
   ],
   "source": [
    "n = 10\n",
    "r = 3\n",
    "\n",
    "# ncr = n! / r!(n - r)!\n",
    "\n",
    "ncr = facto(n) / (facto(r) * facto(n - r))\n",
    "print(ncr)"
   ]
  },
  {
   "cell_type": "code",
   "execution_count": 73,
   "id": "833cc55e-ef61-4d83-a5b3-91d6b3be2a41",
   "metadata": {},
   "outputs": [],
   "source": [
    "def calc(n):\n",
    "    sq = n * n\n",
    "    cu = n ** 3\n",
    "    return sq, cu"
   ]
  },
  {
   "cell_type": "code",
   "execution_count": 75,
   "id": "1e37a155-5927-42d7-896b-fe9014c0de4d",
   "metadata": {},
   "outputs": [
    {
     "data": {
      "text/plain": [
       "(9, 27)"
      ]
     },
     "execution_count": 75,
     "metadata": {},
     "output_type": "execute_result"
    }
   ],
   "source": [
    "calc(3)"
   ]
  },
  {
   "cell_type": "code",
   "execution_count": 79,
   "id": "0b84f523-b60c-4c89-bdbe-214bd2b8e45f",
   "metadata": {},
   "outputs": [
    {
     "name": "stdin",
     "output_type": "stream",
     "text": [
      "Enter the number  5\n"
     ]
    },
    {
     "name": "stdout",
     "output_type": "stream",
     "text": [
      "x 25\n",
      "y 125\n"
     ]
    }
   ],
   "source": [
    "num = int(input('Enter the number '))\n",
    "x, y = calc(num)\n",
    "\n",
    "print('x', x)\n",
    "print('y', y)"
   ]
  },
  {
   "cell_type": "code",
   "execution_count": 95,
   "id": "72c3f445-c43e-4928-9244-03409ab6d34c",
   "metadata": {},
   "outputs": [],
   "source": [
    "# default parameters\n",
    "\n",
    "def add3(a = 10,b = 5,c = 15):\n",
    "    result = a + b + c\n",
    "    return result"
   ]
  },
  {
   "cell_type": "code",
   "execution_count": 97,
   "id": "793424b9-7c1e-41f7-b9bb-b0c5ec28d5d8",
   "metadata": {},
   "outputs": [
    {
     "data": {
      "text/plain": [
       "30"
      ]
     },
     "execution_count": 97,
     "metadata": {},
     "output_type": "execute_result"
    }
   ],
   "source": [
    "add3()"
   ]
  },
  {
   "cell_type": "code",
   "execution_count": 99,
   "id": "2933a040-a0f5-4a0a-a632-0c2359345fd3",
   "metadata": {},
   "outputs": [
    {
     "data": {
      "text/plain": [
       "45"
      ]
     },
     "execution_count": 99,
     "metadata": {},
     "output_type": "execute_result"
    }
   ],
   "source": [
    "add3(20, 10)"
   ]
  },
  {
   "cell_type": "code",
   "execution_count": 101,
   "id": "a6aa3086-3c23-4501-a9d7-c0660525a039",
   "metadata": {},
   "outputs": [
    {
     "data": {
      "text/plain": [
       "40"
      ]
     },
     "execution_count": 101,
     "metadata": {},
     "output_type": "execute_result"
    }
   ],
   "source": [
    "add3(a = 15, c = 20)"
   ]
  },
  {
   "cell_type": "code",
   "execution_count": 107,
   "id": "37597b7b-d734-4cc7-9210-d0964f339852",
   "metadata": {},
   "outputs": [],
   "source": [
    "def add3 (b, a = 10, c = 15):\n",
    "    result = a + b + c\n",
    "    return result"
   ]
  },
  {
   "cell_type": "code",
   "execution_count": 111,
   "id": "ff721e6f-d7a0-4250-ba84-ee69ed7ccefe",
   "metadata": {},
   "outputs": [
    {
     "data": {
      "text/plain": [
       "32"
      ]
     },
     "execution_count": 111,
     "metadata": {},
     "output_type": "execute_result"
    }
   ],
   "source": [
    "add3(7)"
   ]
  },
  {
   "cell_type": "code",
   "execution_count": 139,
   "id": "357466fc-8b0c-43f8-8284-4935fb465998",
   "metadata": {},
   "outputs": [],
   "source": [
    "# dynamic or variable length\n",
    "\n",
    "def disp(*x):\n",
    "    for i in x:\n",
    "        print(i)"
   ]
  },
  {
   "cell_type": "code",
   "execution_count": 141,
   "id": "3fb2772c-366d-424f-8965-a82f6cb086c2",
   "metadata": {},
   "outputs": [
    {
     "name": "stdout",
     "output_type": "stream",
     "text": [
      "4\n",
      "3\n",
      "4\n",
      "6\n",
      "7\n",
      "8\n",
      "9\n"
     ]
    }
   ],
   "source": [
    "disp(4,3,4,6,7,8,9)"
   ]
  },
  {
   "cell_type": "code",
   "execution_count": 145,
   "id": "27684fac-b26e-4fee-8967-4f9d298f186c",
   "metadata": {},
   "outputs": [],
   "source": [
    "# lambda function/ one liner\n",
    "\n",
    "squ = lambda x: x * x\n",
    "# function_name = lambda arguments: result_expression"
   ]
  },
  {
   "cell_type": "code",
   "execution_count": 147,
   "id": "cf5d86e1-7542-448b-b732-fe3292e358f3",
   "metadata": {},
   "outputs": [
    {
     "data": {
      "text/plain": [
       "4"
      ]
     },
     "execution_count": 147,
     "metadata": {},
     "output_type": "execute_result"
    }
   ],
   "source": [
    "squ(2)"
   ]
  },
  {
   "cell_type": "code",
   "execution_count": 151,
   "id": "8780e0e3-ba69-4f47-a5ec-cfa8a5348a1f",
   "metadata": {},
   "outputs": [],
   "source": [
    "mult = lambda x,y: x * y"
   ]
  },
  {
   "cell_type": "code",
   "execution_count": 153,
   "id": "64d6ada7-396f-414c-a610-b807b919aad5",
   "metadata": {},
   "outputs": [
    {
     "data": {
      "text/plain": [
       "200"
      ]
     },
     "execution_count": 153,
     "metadata": {},
     "output_type": "execute_result"
    }
   ],
   "source": [
    "mult(10, 20)"
   ]
  },
  {
   "cell_type": "code",
   "execution_count": 155,
   "id": "d37ac608-3639-40de-afa0-89d9011ac1f3",
   "metadata": {},
   "outputs": [],
   "source": [
    "# filter\n",
    "\n",
    "num = [34, 54, 32, 15, 16, 27, 78]"
   ]
  },
  {
   "cell_type": "code",
   "execution_count": 157,
   "id": "2f581f2c-d395-4645-8f33-7642b72b698b",
   "metadata": {},
   "outputs": [],
   "source": [
    "new = filter(lambda x: x > 30, num)"
   ]
  },
  {
   "cell_type": "code",
   "execution_count": 161,
   "id": "e0a5f298-f705-432e-857a-c45d8d4df1d7",
   "metadata": {},
   "outputs": [
    {
     "data": {
      "text/plain": [
       "[34, 54, 32, 78]"
      ]
     },
     "execution_count": 161,
     "metadata": {},
     "output_type": "execute_result"
    }
   ],
   "source": [
    "list(new)"
   ]
  },
  {
   "cell_type": "code",
   "execution_count": 163,
   "id": "ea1018e3-5450-4365-98bc-4653af7f59ea",
   "metadata": {},
   "outputs": [
    {
     "data": {
      "text/plain": [
       "[17.0, 27.0, 16.0, 7.5, 8.0, 13.5, 39.0]"
      ]
     },
     "execution_count": 163,
     "metadata": {},
     "output_type": "execute_result"
    }
   ],
   "source": [
    "# map\n",
    "\n",
    "new = map(lambda x: x/2, num)\n",
    "list(new)"
   ]
  },
  {
   "cell_type": "code",
   "execution_count": 165,
   "id": "9a79768e-7e5d-415c-af6a-5875598e9f72",
   "metadata": {},
   "outputs": [
    {
     "data": {
      "text/plain": [
       "[True, True, True, False, False, False, True]"
      ]
     },
     "execution_count": 165,
     "metadata": {},
     "output_type": "execute_result"
    }
   ],
   "source": [
    "new = map(lambda x: x > 30, num)\n",
    "list(new)"
   ]
  },
  {
   "cell_type": "markdown",
   "id": "8b732a46-2133-4cbf-ac68-f6ddf6898cc0",
   "metadata": {},
   "source": [
    "# Modules"
   ]
  },
  {
   "cell_type": "code",
   "execution_count": 168,
   "id": "738822a0-a166-452f-bfb4-ab1e2209b38d",
   "metadata": {},
   "outputs": [],
   "source": [
    "import math"
   ]
  },
  {
   "cell_type": "code",
   "execution_count": 170,
   "id": "c0cc6ffa-1d6b-4032-99e5-5b5ffdc67754",
   "metadata": {},
   "outputs": [
    {
     "name": "stdout",
     "output_type": "stream",
     "text": [
      "Help on module math:\n",
      "\n",
      "NAME\n",
      "    math\n",
      "\n",
      "MODULE REFERENCE\n",
      "    https://docs.python.org/3.11/library/math.html\n",
      "    \n",
      "    The following documentation is automatically generated from the Python\n",
      "    source files.  It may be incomplete, incorrect or include features that\n",
      "    are considered implementation detail and may vary between Python\n",
      "    implementations.  When in doubt, consult the module reference at the\n",
      "    location listed above.\n",
      "\n",
      "DESCRIPTION\n",
      "    This module provides access to the mathematical functions\n",
      "    defined by the C standard.\n",
      "\n",
      "FUNCTIONS\n",
      "    acos(x, /)\n",
      "        Return the arc cosine (measured in radians) of x.\n",
      "        \n",
      "        The result is between 0 and pi.\n",
      "    \n",
      "    acosh(x, /)\n",
      "        Return the inverse hyperbolic cosine of x.\n",
      "    \n",
      "    asin(x, /)\n",
      "        Return the arc sine (measured in radians) of x.\n",
      "        \n",
      "        The result is between -pi/2 and pi/2.\n",
      "    \n",
      "    asinh(x, /)\n",
      "        Return the inverse hyperbolic sine of x.\n",
      "    \n",
      "    atan(x, /)\n",
      "        Return the arc tangent (measured in radians) of x.\n",
      "        \n",
      "        The result is between -pi/2 and pi/2.\n",
      "    \n",
      "    atan2(y, x, /)\n",
      "        Return the arc tangent (measured in radians) of y/x.\n",
      "        \n",
      "        Unlike atan(y/x), the signs of both x and y are considered.\n",
      "    \n",
      "    atanh(x, /)\n",
      "        Return the inverse hyperbolic tangent of x.\n",
      "    \n",
      "    cbrt(x, /)\n",
      "        Return the cube root of x.\n",
      "    \n",
      "    ceil(x, /)\n",
      "        Return the ceiling of x as an Integral.\n",
      "        \n",
      "        This is the smallest integer >= x.\n",
      "    \n",
      "    comb(n, k, /)\n",
      "        Number of ways to choose k items from n items without repetition and without order.\n",
      "        \n",
      "        Evaluates to n! / (k! * (n - k)!) when k <= n and evaluates\n",
      "        to zero when k > n.\n",
      "        \n",
      "        Also called the binomial coefficient because it is equivalent\n",
      "        to the coefficient of k-th term in polynomial expansion of the\n",
      "        expression (1 + x)**n.\n",
      "        \n",
      "        Raises TypeError if either of the arguments are not integers.\n",
      "        Raises ValueError if either of the arguments are negative.\n",
      "    \n",
      "    copysign(x, y, /)\n",
      "        Return a float with the magnitude (absolute value) of x but the sign of y.\n",
      "        \n",
      "        On platforms that support signed zeros, copysign(1.0, -0.0)\n",
      "        returns -1.0.\n",
      "    \n",
      "    cos(x, /)\n",
      "        Return the cosine of x (measured in radians).\n",
      "    \n",
      "    cosh(x, /)\n",
      "        Return the hyperbolic cosine of x.\n",
      "    \n",
      "    degrees(x, /)\n",
      "        Convert angle x from radians to degrees.\n",
      "    \n",
      "    dist(p, q, /)\n",
      "        Return the Euclidean distance between two points p and q.\n",
      "        \n",
      "        The points should be specified as sequences (or iterables) of\n",
      "        coordinates.  Both inputs must have the same dimension.\n",
      "        \n",
      "        Roughly equivalent to:\n",
      "            sqrt(sum((px - qx) ** 2.0 for px, qx in zip(p, q)))\n",
      "    \n",
      "    erf(x, /)\n",
      "        Error function at x.\n",
      "    \n",
      "    erfc(x, /)\n",
      "        Complementary error function at x.\n",
      "    \n",
      "    exp(x, /)\n",
      "        Return e raised to the power of x.\n",
      "    \n",
      "    exp2(x, /)\n",
      "        Return 2 raised to the power of x.\n",
      "    \n",
      "    expm1(x, /)\n",
      "        Return exp(x)-1.\n",
      "        \n",
      "        This function avoids the loss of precision involved in the direct evaluation of exp(x)-1 for small x.\n",
      "    \n",
      "    fabs(x, /)\n",
      "        Return the absolute value of the float x.\n",
      "    \n",
      "    factorial(n, /)\n",
      "        Find n!.\n",
      "        \n",
      "        Raise a ValueError if x is negative or non-integral.\n",
      "    \n",
      "    floor(x, /)\n",
      "        Return the floor of x as an Integral.\n",
      "        \n",
      "        This is the largest integer <= x.\n",
      "    \n",
      "    fmod(x, y, /)\n",
      "        Return fmod(x, y), according to platform C.\n",
      "        \n",
      "        x % y may differ.\n",
      "    \n",
      "    frexp(x, /)\n",
      "        Return the mantissa and exponent of x, as pair (m, e).\n",
      "        \n",
      "        m is a float and e is an int, such that x = m * 2.**e.\n",
      "        If x is 0, m and e are both 0.  Else 0.5 <= abs(m) < 1.0.\n",
      "    \n",
      "    fsum(seq, /)\n",
      "        Return an accurate floating point sum of values in the iterable seq.\n",
      "        \n",
      "        Assumes IEEE-754 floating point arithmetic.\n",
      "    \n",
      "    gamma(x, /)\n",
      "        Gamma function at x.\n",
      "    \n",
      "    gcd(*integers)\n",
      "        Greatest Common Divisor.\n",
      "    \n",
      "    hypot(...)\n",
      "        hypot(*coordinates) -> value\n",
      "        \n",
      "        Multidimensional Euclidean distance from the origin to a point.\n",
      "        \n",
      "        Roughly equivalent to:\n",
      "            sqrt(sum(x**2 for x in coordinates))\n",
      "        \n",
      "        For a two dimensional point (x, y), gives the hypotenuse\n",
      "        using the Pythagorean theorem:  sqrt(x*x + y*y).\n",
      "        \n",
      "        For example, the hypotenuse of a 3/4/5 right triangle is:\n",
      "        \n",
      "            >>> hypot(3.0, 4.0)\n",
      "            5.0\n",
      "    \n",
      "    isclose(a, b, *, rel_tol=1e-09, abs_tol=0.0)\n",
      "        Determine whether two floating point numbers are close in value.\n",
      "        \n",
      "          rel_tol\n",
      "            maximum difference for being considered \"close\", relative to the\n",
      "            magnitude of the input values\n",
      "          abs_tol\n",
      "            maximum difference for being considered \"close\", regardless of the\n",
      "            magnitude of the input values\n",
      "        \n",
      "        Return True if a is close in value to b, and False otherwise.\n",
      "        \n",
      "        For the values to be considered close, the difference between them\n",
      "        must be smaller than at least one of the tolerances.\n",
      "        \n",
      "        -inf, inf and NaN behave similarly to the IEEE 754 Standard.  That\n",
      "        is, NaN is not close to anything, even itself.  inf and -inf are\n",
      "        only close to themselves.\n",
      "    \n",
      "    isfinite(x, /)\n",
      "        Return True if x is neither an infinity nor a NaN, and False otherwise.\n",
      "    \n",
      "    isinf(x, /)\n",
      "        Return True if x is a positive or negative infinity, and False otherwise.\n",
      "    \n",
      "    isnan(x, /)\n",
      "        Return True if x is a NaN (not a number), and False otherwise.\n",
      "    \n",
      "    isqrt(n, /)\n",
      "        Return the integer part of the square root of the input.\n",
      "    \n",
      "    lcm(*integers)\n",
      "        Least Common Multiple.\n",
      "    \n",
      "    ldexp(x, i, /)\n",
      "        Return x * (2**i).\n",
      "        \n",
      "        This is essentially the inverse of frexp().\n",
      "    \n",
      "    lgamma(x, /)\n",
      "        Natural logarithm of absolute value of Gamma function at x.\n",
      "    \n",
      "    log(...)\n",
      "        log(x, [base=math.e])\n",
      "        Return the logarithm of x to the given base.\n",
      "        \n",
      "        If the base not specified, returns the natural logarithm (base e) of x.\n",
      "    \n",
      "    log10(x, /)\n",
      "        Return the base 10 logarithm of x.\n",
      "    \n",
      "    log1p(x, /)\n",
      "        Return the natural logarithm of 1+x (base e).\n",
      "        \n",
      "        The result is computed in a way which is accurate for x near zero.\n",
      "    \n",
      "    log2(x, /)\n",
      "        Return the base 2 logarithm of x.\n",
      "    \n",
      "    modf(x, /)\n",
      "        Return the fractional and integer parts of x.\n",
      "        \n",
      "        Both results carry the sign of x and are floats.\n",
      "    \n",
      "    nextafter(x, y, /)\n",
      "        Return the next floating-point value after x towards y.\n",
      "    \n",
      "    perm(n, k=None, /)\n",
      "        Number of ways to choose k items from n items without repetition and with order.\n",
      "        \n",
      "        Evaluates to n! / (n - k)! when k <= n and evaluates\n",
      "        to zero when k > n.\n",
      "        \n",
      "        If k is not specified or is None, then k defaults to n\n",
      "        and the function returns n!.\n",
      "        \n",
      "        Raises TypeError if either of the arguments are not integers.\n",
      "        Raises ValueError if either of the arguments are negative.\n",
      "    \n",
      "    pow(x, y, /)\n",
      "        Return x**y (x to the power of y).\n",
      "    \n",
      "    prod(iterable, /, *, start=1)\n",
      "        Calculate the product of all the elements in the input iterable.\n",
      "        \n",
      "        The default start value for the product is 1.\n",
      "        \n",
      "        When the iterable is empty, return the start value.  This function is\n",
      "        intended specifically for use with numeric values and may reject\n",
      "        non-numeric types.\n",
      "    \n",
      "    radians(x, /)\n",
      "        Convert angle x from degrees to radians.\n",
      "    \n",
      "    remainder(x, y, /)\n",
      "        Difference between x and the closest integer multiple of y.\n",
      "        \n",
      "        Return x - n*y where n*y is the closest integer multiple of y.\n",
      "        In the case where x is exactly halfway between two multiples of\n",
      "        y, the nearest even value of n is used. The result is always exact.\n",
      "    \n",
      "    sin(x, /)\n",
      "        Return the sine of x (measured in radians).\n",
      "    \n",
      "    sinh(x, /)\n",
      "        Return the hyperbolic sine of x.\n",
      "    \n",
      "    sqrt(x, /)\n",
      "        Return the square root of x.\n",
      "    \n",
      "    tan(x, /)\n",
      "        Return the tangent of x (measured in radians).\n",
      "    \n",
      "    tanh(x, /)\n",
      "        Return the hyperbolic tangent of x.\n",
      "    \n",
      "    trunc(x, /)\n",
      "        Truncates the Real x to the nearest Integral toward 0.\n",
      "        \n",
      "        Uses the __trunc__ magic method.\n",
      "    \n",
      "    ulp(x, /)\n",
      "        Return the value of the least significant bit of the float x.\n",
      "\n",
      "DATA\n",
      "    e = 2.718281828459045\n",
      "    inf = inf\n",
      "    nan = nan\n",
      "    pi = 3.141592653589793\n",
      "    tau = 6.283185307179586\n",
      "\n",
      "FILE\n",
      "    /home/aditya/anaconda3/lib/python3.11/lib-dynload/math.cpython-311-x86_64-linux-gnu.so\n",
      "\n",
      "\n"
     ]
    }
   ],
   "source": [
    "help(math)"
   ]
  },
  {
   "cell_type": "code",
   "execution_count": 172,
   "id": "dc6c9a85-db97-4322-934f-cf02ef9c95b9",
   "metadata": {},
   "outputs": [
    {
     "data": {
      "text/plain": [
       "5.0"
      ]
     },
     "execution_count": 172,
     "metadata": {},
     "output_type": "execute_result"
    }
   ],
   "source": [
    "math.sqrt(25)"
   ]
  },
  {
   "cell_type": "code",
   "execution_count": 174,
   "id": "81103407-871f-4815-8346-5ebd05e4a001",
   "metadata": {},
   "outputs": [
    {
     "data": {
      "text/plain": [
       "-0.9880316240928618"
      ]
     },
     "execution_count": 174,
     "metadata": {},
     "output_type": "execute_result"
    }
   ],
   "source": [
    "math.sin(30)"
   ]
  },
  {
   "cell_type": "code",
   "execution_count": 176,
   "id": "40d245b3-b74f-462c-a9b6-5928f62a6c81",
   "metadata": {},
   "outputs": [
    {
     "name": "stdin",
     "output_type": "stream",
     "text": [
      "Enter the radius  5\n"
     ]
    },
    {
     "name": "stdout",
     "output_type": "stream",
     "text": [
      "Area of circle is 28.274333882308138\n"
     ]
    }
   ],
   "source": [
    "# read the radius find area of circle\n",
    "\n",
    "radius = float(input('Enter the radius '))\n",
    "print('Area of circle is', math.pi * r * r)"
   ]
  },
  {
   "cell_type": "code",
   "execution_count": 178,
   "id": "53457b55-3ce7-4599-827d-343f0bd75724",
   "metadata": {},
   "outputs": [],
   "source": [
    "import time"
   ]
  },
  {
   "cell_type": "code",
   "execution_count": 180,
   "id": "d30c0045-255b-4511-9e03-375c12a62706",
   "metadata": {},
   "outputs": [
    {
     "data": {
      "text/plain": [
       "'Mon Jun 10 16:30:38 2024'"
      ]
     },
     "execution_count": 180,
     "metadata": {},
     "output_type": "execute_result"
    }
   ],
   "source": [
    "time.asctime()"
   ]
  },
  {
   "cell_type": "code",
   "execution_count": 182,
   "id": "453f2f17-9407-45d0-8bd3-5ae72c3c8377",
   "metadata": {},
   "outputs": [
    {
     "name": "stdout",
     "output_type": "stream",
     "text": [
      "ZZZZZZ\n",
      "phewwww!!!\n"
     ]
    }
   ],
   "source": [
    "print('ZZZZZZ')\n",
    "time.sleep(5)\n",
    "print('phewwww!!!')"
   ]
  },
  {
   "cell_type": "code",
   "execution_count": 184,
   "id": "552bb6c6-a858-4556-9bbc-8e64b6e169e0",
   "metadata": {},
   "outputs": [],
   "source": [
    "# alias\n",
    "\n",
    "import time as t"
   ]
  },
  {
   "cell_type": "code",
   "execution_count": 186,
   "id": "28ab9b9f-021d-40d9-873e-cee52dd5c25e",
   "metadata": {},
   "outputs": [
    {
     "data": {
      "text/plain": [
       "'Mon Jun 10 16:34:45 2024'"
      ]
     },
     "execution_count": 186,
     "metadata": {},
     "output_type": "execute_result"
    }
   ],
   "source": [
    "t.asctime()"
   ]
  },
  {
   "cell_type": "code",
   "execution_count": 188,
   "id": "75dcb21e-31f4-4932-8c17-7e385e19168d",
   "metadata": {},
   "outputs": [],
   "source": [
    "# selective imports\n",
    "\n",
    "from math import sqrt, pi"
   ]
  },
  {
   "cell_type": "code",
   "execution_count": 190,
   "id": "5053bd77-1d07-4427-acb6-a774b167c219",
   "metadata": {},
   "outputs": [
    {
     "data": {
      "text/plain": [
       "7.0"
      ]
     },
     "execution_count": 190,
     "metadata": {},
     "output_type": "execute_result"
    }
   ],
   "source": [
    "sqrt(49)"
   ]
  },
  {
   "cell_type": "code",
   "execution_count": 192,
   "id": "3bae7e2b-2763-47ca-973c-8d1f53d59442",
   "metadata": {},
   "outputs": [
    {
     "data": {
      "text/plain": [
       "3.141592653589793"
      ]
     },
     "execution_count": 192,
     "metadata": {},
     "output_type": "execute_result"
    }
   ],
   "source": [
    "pi"
   ]
  },
  {
   "cell_type": "markdown",
   "id": "8f91ca7e-724b-4c10-8b4f-619c5bf878c6",
   "metadata": {},
   "source": [
    "#  import user defined module"
   ]
  },
  {
   "cell_type": "code",
   "execution_count": 195,
   "id": "5aceb266-c35c-499d-844a-11e5b555bf5a",
   "metadata": {},
   "outputs": [],
   "source": [
    "import mod11"
   ]
  },
  {
   "cell_type": "code",
   "execution_count": 197,
   "id": "c944f9c6-b13f-43aa-9e89-078f662cb2c6",
   "metadata": {},
   "outputs": [
    {
     "name": "stdout",
     "output_type": "stream",
     "text": [
      "Hello World\n",
      "Welcome\n",
      "Goodbye!!!\n"
     ]
    }
   ],
   "source": [
    "mod11.show()"
   ]
  },
  {
   "cell_type": "code",
   "execution_count": null,
   "id": "0f09315a-32f5-415d-8117-0d33a1e0823a",
   "metadata": {},
   "outputs": [],
   "source": [
    "from google.colab import files\n",
    "files.upload()"
   ]
  }
 ],
 "metadata": {
  "kernelspec": {
   "display_name": "Python 3 (ipykernel)",
   "language": "python",
   "name": "python3"
  },
  "language_info": {
   "codemirror_mode": {
    "name": "ipython",
    "version": 3
   },
   "file_extension": ".py",
   "mimetype": "text/x-python",
   "name": "python",
   "nbconvert_exporter": "python",
   "pygments_lexer": "ipython3",
   "version": "3.11.9"
  }
 },
 "nbformat": 4,
 "nbformat_minor": 5
}
