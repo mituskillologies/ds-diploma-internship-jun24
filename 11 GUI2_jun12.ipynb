{
 "cells": [
  {
   "cell_type": "code",
   "execution_count": 92,
   "id": "1c3bf3df-7b66-4adf-a002-6acd3dc5db87",
   "metadata": {},
   "outputs": [],
   "source": [
    "import tkinter as tk\n",
    "from tkinter import *\n",
    "from tkinter.ttk import *\n",
    "from tkinter import scrolledtext\n",
    "from tkinter import BooleanVar\n",
    "from tkinter import messagebox"
   ]
  },
  {
   "cell_type": "code",
   "execution_count": 40,
   "id": "fbcdbaa1-d5cf-4152-bf3c-bd240c97d022",
   "metadata": {},
   "outputs": [],
   "source": [
    "top = tk.Tk()\n",
    "\n",
    "top.title('My Apllication')\n",
    "top.geometry('700x500')\n",
    "\n",
    "\n",
    "def dis():\n",
    "    lab = tk.Label(top, text = 'OOPS!!!').place(x = 200, y = 200)\n",
    "    messagebox.showinfo('MESSAGE', 'OOPS')\n",
    "\n",
    "'''b1 = tk.Button(top, text = 'Click me!!!', bg = 'Yellow').pack()\n",
    "e1 = tk.Entry(top).pack()\n",
    "t1 = tk.Text(top).pack()\n",
    "\n",
    "b1 = tk.Button(top, text = 'Click me!!!', bg = 'Yellow').grid(column=0, row = 0)\n",
    "e1 = tk.Entry(top).grid(column=1, row = 0)\n",
    "t1 = tk.Text(top).grid(column=2, row = 2)'''\n",
    "\n",
    "b1 = tk.Button(top, text = 'Click me!!!', bg = 'Yellow', command = dis).place(x = 100, y = 150)\n",
    "e1 = tk.Entry(top).place(x = 100, y =100)\n",
    "#t1 = tk.Text(top).place(x = 100, y = 200)\n",
    "\n",
    "# combo box\n",
    "combo = Combobox(top)\n",
    "combo['values']= [1,2,3,4,5,'next']\n",
    "combo.current(2)\n",
    "combo.place(x = 20, y = 50)\n",
    "\n",
    "# check button\n",
    "ch = tk.BooleanVar()\n",
    "ch.set(True)\n",
    "cb = tk.Checkbutton(top, text = 'DONE', var = ch, font = ('Ariel bold', 20),cursor = 'hand2').grid(column=3, row = 3)\n",
    "\n",
    "# SCROLLED TEXT\n",
    "\n",
    "txt = scrolledtext.ScrolledText(top, width = 30, height = 10).grid(column=2, row = 2)\n",
    "\n",
    "top.mainloop()"
   ]
  },
  {
   "cell_type": "code",
   "execution_count": 64,
   "id": "139eee18-5cae-462e-b947-e1f8b63cb9cf",
   "metadata": {},
   "outputs": [],
   "source": [
    "top = tk.Tk()\n",
    "\n",
    "top.title('Square of a Number')\n",
    "top.geometry('700x500')\n",
    "\n",
    "data = tk.IntVar()\n",
    "\n",
    "def square():\n",
    "    num = data.get()\n",
    "    result = num * num\n",
    "    messagebox.showinfo('MESSAGE', 'Square is %i' %result)\n",
    "\n",
    "l1 = tk.Label(top, text= 'INPUT').place(x = 50, y = 50)\n",
    "e1 = tk.Entry(top, textvariable = data).place(x = 100, y = 50)\n",
    "b1 = tk.Button(top, text = 'Square',command = square, font = ('Bold', 14), bg = 'purple', fg = 'yellow').place(x = 120, y = 100)\n",
    "\n",
    "top.mainloop()"
   ]
  },
  {
   "cell_type": "code",
   "execution_count": null,
   "id": "e0d61057-63c6-4c64-8fbe-cba4bb74ab28",
   "metadata": {},
   "outputs": [],
   "source": [
    "# take 2 numbers, add, sub, divide, mult\n",
    "top = tk.Tk()\n",
    "\n",
    "top.title('Square of a Number')\n",
    "top.geometry('700x500')\n",
    "\n",
    "a1 = tk.IntVar()\n",
    "a2 = tk.IntVar()\n",
    "\n",
    "def mult():\n",
    "    res = a1.get() * a2.get()\n",
    "    messagebox.showinfo('Multiplication', 'Multi is %i' %res)\n",
    "\n",
    "l1 = tk.Label(top, text= 'INPUT').place(x = 50, y = 50)\n",
    "l2 = tk.Label(top, text= 'INPUT').place(x = 50, y = 80)\n",
    "e1 = tk.Entry(top, textvariable = a1).place(x = 100, y = 50)\n",
    "e2 = tk.Entry(top, textvariable = a2).place(x = 100, y = 80)\n",
    "b1 = tk.Button(top, text = 'Multiplication',command = mult, font = ('Bold', 14), bg = 'purple', fg = 'yellow').place(x = 100, y = 120)\n",
    "\n",
    "top.mainloop()"
   ]
  },
  {
   "cell_type": "code",
   "execution_count": null,
   "id": "c0493bf2-b538-4d53-94e0-f75f4bae1307",
   "metadata": {},
   "outputs": [],
   "source": []
  }
 ],
 "metadata": {
  "kernelspec": {
   "display_name": "Python 3 (ipykernel)",
   "language": "python",
   "name": "python3"
  },
  "language_info": {
   "codemirror_mode": {
    "name": "ipython",
    "version": 3
   },
   "file_extension": ".py",
   "mimetype": "text/x-python",
   "name": "python",
   "nbconvert_exporter": "python",
   "pygments_lexer": "ipython3",
   "version": "3.11.9"
  }
 },
 "nbformat": 4,
 "nbformat_minor": 5
}
